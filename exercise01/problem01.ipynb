{
  "nbformat": 4,
  "nbformat_minor": 0,
  "metadata": {
    "colab": {
      "name": "problem01.ipynb",
      "provenance": [],
      "collapsed_sections": [],
      "authorship_tag": "ABX9TyMX1oDNquZVNWbeWhpM2LFi",
      "include_colab_link": true
    },
    "kernelspec": {
      "display_name": "Python 3",
      "name": "python3"
    },
    "language_info": {
      "name": "python"
    }
  },
  "cells": [
    {
      "cell_type": "markdown",
      "metadata": {
        "id": "view-in-github",
        "colab_type": "text"
      },
      "source": [
        "<a href=\"https://colab.research.google.com/github/diascarolina/i2a2/blob/main/exercise01/problem01.ipynb\" target=\"_parent\"><img src=\"https://colab.research.google.com/assets/colab-badge.svg\" alt=\"Open In Colab\"/></a>"
      ]
    },
    {
      "cell_type": "markdown",
      "metadata": {
        "id": "0e0ajUd0ggW1"
      },
      "source": [
        "# Converting Texts to Matrices"
      ]
    },
    {
      "cell_type": "markdown",
      "metadata": {
        "id": "vp1m_wYwp7dO"
      },
      "source": [
        "- **Name**: Carolina Araujo Dias"
      ]
    },
    {
      "cell_type": "markdown",
      "metadata": {
        "id": "YK4B8TM2hanK"
      },
      "source": [
        "Our task is to convert the following given text to a matrix. We can use any method.\n",
        "\n",
        "We have 4 sentences in our text, so we'll load each sentence into a row in a pandas DataFrame and check the number of times each words appears in each sentence."
      ]
    },
    {
      "cell_type": "code",
      "metadata": {
        "id": "N_9kxTJhBOsK"
      },
      "source": [
        "input_text = \"\"\"\n",
        "Fusce risus ex, posuere at ante at, condimentum vestibulum nunc. Proin dapibus egestas neque, a tempor odio pharetra eget. Nullam tempus felis eu consectetur tincidunt. Integer fermentum eu quam vitae tempus. Vivamus volutpat ut dui vitae sollicitudin. Donec ornare dolor a vestibulum pharetra. Mauris eget dui sapien. Mauris lobortis feugiat neque, nec congue leo viverra semper. In vel mauris nunc. Aenean scelerisque arcu a varius tempor. Proin quis nisi et mi dictum tempor. Pellentesque mattis risus metus, id luctus orci ultrices ac. Praesent bibendum lectus a nisl mollis, eu suscipit eros pretium.\n",
        "Phasellus vitae elit efficitur, varius felis id, vulputate neque. Praesent dictum nunc in velit lobortis tempus. Duis pulvinar ut urna eget volutpat. In hac habitasse platea dictumst. Aenean eros libero, ultrices eu dolor id, ultrices bibendum mauris. Nunc quis nunc feugiat, dapibus sem eget, pretium orci. Mauris mauris felis, pulvinar nec dapibus in, laoreet ac nibh. Pellentesque habitant morbi tristique senectus et netus et malesuada fames ac turpis egestas. In sed scelerisque massa. Morbi sit amet ex erat. Duis sit amet laoreet ipsum. Nullam rutrum dapibus metus id sollicitudin. Sed lorem metus, maximus id maximus ac, vehicula vitae neque.\n",
        "Curabitur vestibulum lorem diam, nec dictum lectus sodales id. Morbi at dui at ex fermentum porttitor sit amet et ipsum. Nullam et nibh vitae arcu porta pretium. Aenean ultricies bibendum nibh vitae mattis. Donec nec dignissim lorem. Vivamus ut lectus nec sem suscipit gravida. Class aptent taciti sociosqu ad litora torquent per conubia nostra, per inceptos himenaeos. Proin nec metus at sapien tempor ultrices. Donec sed orci ante. Quisque finibus maximus justo, sit amet dignissim justo ornare ut. Morbi imperdiet sagittis tristique. Nunc vestibulum velit eget neque ultrices, sit amet egestas elit eleifend.\n",
        "Curabitur facilisis elementum ligula vitae pellentesque. Nulla facilisi. Nulla vel tristique arcu. Sed dictum nisl ac laoreet venenatis. Proin eros est, suscipit id sodales eu, semper maximus eros. Sed maximus id nulla vel auctor. Nullam libero odio, auctor eget felis et, viverra gravida nisl. Vivamus sed luctus eros, nec mattis leo. Phasellus eget accumsan justo. Proin nisl sem, luctus ut gravida consequat, congue sit amet arcu.\n",
        "\"\"\""
      ],
      "execution_count": 1,
      "outputs": []
    },
    {
      "cell_type": "markdown",
      "metadata": {
        "id": "Yb_Bb2ZxiqVq"
      },
      "source": [
        "# Text Preprocessing"
      ]
    },
    {
      "cell_type": "code",
      "metadata": {
        "id": "lJ-VqC3QjN2G"
      },
      "source": [
        "def clean_text(text: str) -> str:\n",
        "    \"\"\"\n",
        "    Function that cleans the given text, removing punctuation\n",
        "    and capitalization\n",
        "    \"\"\"\n",
        "    cleaned_text = text.lower()\n",
        "    cleaned_text = re.sub('\\[.*?\\]', '', cleaned_text)\n",
        "    cleaned_text = re.sub('\\w*\\d\\w*', '', cleaned_text)\n",
        "    cleaned_text = re.sub('[%s]' % re.escape(string.punctuation), '', cleaned_text)\n",
        "    return cleaned_text"
      ],
      "execution_count": 2,
      "outputs": []
    },
    {
      "cell_type": "markdown",
      "metadata": {
        "id": "Ak-wzksLcT6F"
      },
      "source": [
        "# Solution 01"
      ]
    },
    {
      "cell_type": "code",
      "metadata": {
        "id": "XHtbzd2WAreK"
      },
      "source": [
        "import pandas as pd\n",
        "import plotly.express as px\n",
        "from gensim.models import Word2Vec\n",
        "from sklearn.decomposition import PCA\n",
        "import string\n",
        "import re"
      ],
      "execution_count": 3,
      "outputs": []
    },
    {
      "cell_type": "code",
      "metadata": {
        "colab": {
          "base_uri": "https://localhost:8080/",
          "height": 109
        },
        "id": "ZpHsNVSjqgMe",
        "outputId": "d762e685-0376-49a8-cc2a-98f62414360c"
      },
      "source": [
        "cleaned_text = clean_text(input_text)\n",
        "cleaned_text"
      ],
      "execution_count": 4,
      "outputs": [
        {
          "output_type": "execute_result",
          "data": {
            "application/vnd.google.colaboratory.intrinsic+json": {
              "type": "string"
            },
            "text/plain": [
              "'\\nfusce risus ex posuere at ante at condimentum vestibulum nunc proin dapibus egestas neque a tempor odio pharetra eget nullam tempus felis eu consectetur tincidunt integer fermentum eu quam vitae tempus vivamus volutpat ut dui vitae sollicitudin donec ornare dolor a vestibulum pharetra mauris eget dui sapien mauris lobortis feugiat neque nec congue leo viverra semper in vel mauris nunc aenean scelerisque arcu a varius tempor proin quis nisi et mi dictum tempor pellentesque mattis risus metus id luctus orci ultrices ac praesent bibendum lectus a nisl mollis eu suscipit eros pretium\\nphasellus vitae elit efficitur varius felis id vulputate neque praesent dictum nunc in velit lobortis tempus duis pulvinar ut urna eget volutpat in hac habitasse platea dictumst aenean eros libero ultrices eu dolor id ultrices bibendum mauris nunc quis nunc feugiat dapibus sem eget pretium orci mauris mauris felis pulvinar nec dapibus in laoreet ac nibh pellentesque habitant morbi tristique senectus et netus et malesuada fames ac turpis egestas in sed scelerisque massa morbi sit amet ex erat duis sit amet laoreet ipsum nullam rutrum dapibus metus id sollicitudin sed lorem metus maximus id maximus ac vehicula vitae neque\\ncurabitur vestibulum lorem diam nec dictum lectus sodales id morbi at dui at ex fermentum porttitor sit amet et ipsum nullam et nibh vitae arcu porta pretium aenean ultricies bibendum nibh vitae mattis donec nec dignissim lorem vivamus ut lectus nec sem suscipit gravida class aptent taciti sociosqu ad litora torquent per conubia nostra per inceptos himenaeos proin nec metus at sapien tempor ultrices donec sed orci ante quisque finibus maximus justo sit amet dignissim justo ornare ut morbi imperdiet sagittis tristique nunc vestibulum velit eget neque ultrices sit amet egestas elit eleifend\\ncurabitur facilisis elementum ligula vitae pellentesque nulla facilisi nulla vel tristique arcu sed dictum nisl ac laoreet venenatis proin eros est suscipit id sodales eu semper maximus eros sed maximus id nulla vel auctor nullam libero odio auctor eget felis et viverra gravida nisl vivamus sed luctus eros nec mattis leo phasellus eget accumsan justo proin nisl sem luctus ut gravida consequat congue sit amet arcu\\n'"
            ]
          },
          "metadata": {},
          "execution_count": 4
        }
      ]
    },
    {
      "cell_type": "markdown",
      "metadata": {
        "id": "HDH4Uyttqysm"
      },
      "source": [
        "Now we have our cleaned text with no punctuation, no capitalization, only line breaks. Now let's turn it into a pandas DataFrame, where each row is a sentence and each column is a word."
      ]
    },
    {
      "cell_type": "code",
      "metadata": {
        "colab": {
          "base_uri": "https://localhost:8080/"
        },
        "id": "iPZolnxwsJlP",
        "outputId": "ed5db220-bd6f-456b-fa24-498e2bfb1a0b"
      },
      "source": [
        "cleaned_text = cleaned_text.split('\\n')\n",
        "cleaned_text"
      ],
      "execution_count": 5,
      "outputs": [
        {
          "output_type": "execute_result",
          "data": {
            "text/plain": [
              "['',\n",
              " 'fusce risus ex posuere at ante at condimentum vestibulum nunc proin dapibus egestas neque a tempor odio pharetra eget nullam tempus felis eu consectetur tincidunt integer fermentum eu quam vitae tempus vivamus volutpat ut dui vitae sollicitudin donec ornare dolor a vestibulum pharetra mauris eget dui sapien mauris lobortis feugiat neque nec congue leo viverra semper in vel mauris nunc aenean scelerisque arcu a varius tempor proin quis nisi et mi dictum tempor pellentesque mattis risus metus id luctus orci ultrices ac praesent bibendum lectus a nisl mollis eu suscipit eros pretium',\n",
              " 'phasellus vitae elit efficitur varius felis id vulputate neque praesent dictum nunc in velit lobortis tempus duis pulvinar ut urna eget volutpat in hac habitasse platea dictumst aenean eros libero ultrices eu dolor id ultrices bibendum mauris nunc quis nunc feugiat dapibus sem eget pretium orci mauris mauris felis pulvinar nec dapibus in laoreet ac nibh pellentesque habitant morbi tristique senectus et netus et malesuada fames ac turpis egestas in sed scelerisque massa morbi sit amet ex erat duis sit amet laoreet ipsum nullam rutrum dapibus metus id sollicitudin sed lorem metus maximus id maximus ac vehicula vitae neque',\n",
              " 'curabitur vestibulum lorem diam nec dictum lectus sodales id morbi at dui at ex fermentum porttitor sit amet et ipsum nullam et nibh vitae arcu porta pretium aenean ultricies bibendum nibh vitae mattis donec nec dignissim lorem vivamus ut lectus nec sem suscipit gravida class aptent taciti sociosqu ad litora torquent per conubia nostra per inceptos himenaeos proin nec metus at sapien tempor ultrices donec sed orci ante quisque finibus maximus justo sit amet dignissim justo ornare ut morbi imperdiet sagittis tristique nunc vestibulum velit eget neque ultrices sit amet egestas elit eleifend',\n",
              " 'curabitur facilisis elementum ligula vitae pellentesque nulla facilisi nulla vel tristique arcu sed dictum nisl ac laoreet venenatis proin eros est suscipit id sodales eu semper maximus eros sed maximus id nulla vel auctor nullam libero odio auctor eget felis et viverra gravida nisl vivamus sed luctus eros nec mattis leo phasellus eget accumsan justo proin nisl sem luctus ut gravida consequat congue sit amet arcu',\n",
              " '']"
            ]
          },
          "metadata": {},
          "execution_count": 5
        }
      ]
    },
    {
      "cell_type": "code",
      "metadata": {
        "colab": {
          "base_uri": "https://localhost:8080/"
        },
        "id": "YKtIVTeitu9j",
        "outputId": "66a20a33-f3e6-43c3-b3f7-a48de7892572"
      },
      "source": [
        "word_dict = {}\n",
        "i = 0\n",
        "\n",
        "for sentence in cleaned_text:\n",
        "    if sentence != '':\n",
        "        word_dict[i] = sentence\n",
        "        i = i + 1\n",
        "word_dict"
      ],
      "execution_count": 6,
      "outputs": [
        {
          "output_type": "execute_result",
          "data": {
            "text/plain": [
              "{0: 'fusce risus ex posuere at ante at condimentum vestibulum nunc proin dapibus egestas neque a tempor odio pharetra eget nullam tempus felis eu consectetur tincidunt integer fermentum eu quam vitae tempus vivamus volutpat ut dui vitae sollicitudin donec ornare dolor a vestibulum pharetra mauris eget dui sapien mauris lobortis feugiat neque nec congue leo viverra semper in vel mauris nunc aenean scelerisque arcu a varius tempor proin quis nisi et mi dictum tempor pellentesque mattis risus metus id luctus orci ultrices ac praesent bibendum lectus a nisl mollis eu suscipit eros pretium',\n",
              " 1: 'phasellus vitae elit efficitur varius felis id vulputate neque praesent dictum nunc in velit lobortis tempus duis pulvinar ut urna eget volutpat in hac habitasse platea dictumst aenean eros libero ultrices eu dolor id ultrices bibendum mauris nunc quis nunc feugiat dapibus sem eget pretium orci mauris mauris felis pulvinar nec dapibus in laoreet ac nibh pellentesque habitant morbi tristique senectus et netus et malesuada fames ac turpis egestas in sed scelerisque massa morbi sit amet ex erat duis sit amet laoreet ipsum nullam rutrum dapibus metus id sollicitudin sed lorem metus maximus id maximus ac vehicula vitae neque',\n",
              " 2: 'curabitur vestibulum lorem diam nec dictum lectus sodales id morbi at dui at ex fermentum porttitor sit amet et ipsum nullam et nibh vitae arcu porta pretium aenean ultricies bibendum nibh vitae mattis donec nec dignissim lorem vivamus ut lectus nec sem suscipit gravida class aptent taciti sociosqu ad litora torquent per conubia nostra per inceptos himenaeos proin nec metus at sapien tempor ultrices donec sed orci ante quisque finibus maximus justo sit amet dignissim justo ornare ut morbi imperdiet sagittis tristique nunc vestibulum velit eget neque ultrices sit amet egestas elit eleifend',\n",
              " 3: 'curabitur facilisis elementum ligula vitae pellentesque nulla facilisi nulla vel tristique arcu sed dictum nisl ac laoreet venenatis proin eros est suscipit id sodales eu semper maximus eros sed maximus id nulla vel auctor nullam libero odio auctor eget felis et viverra gravida nisl vivamus sed luctus eros nec mattis leo phasellus eget accumsan justo proin nisl sem luctus ut gravida consequat congue sit amet arcu'}"
            ]
          },
          "metadata": {},
          "execution_count": 6
        }
      ]
    },
    {
      "cell_type": "code",
      "metadata": {
        "colab": {
          "base_uri": "https://localhost:8080/",
          "height": 175
        },
        "id": "6g10ywD1wM_8",
        "outputId": "bf00752e-f386-4cee-f1e5-5aba7d839c56"
      },
      "source": [
        "df_words = pd.DataFrame.from_dict(word_dict,\n",
        "                                  orient = 'index',\n",
        "                                  columns = ['sentence'])\n",
        "df_words"
      ],
      "execution_count": 7,
      "outputs": [
        {
          "output_type": "execute_result",
          "data": {
            "text/html": [
              "<div>\n",
              "<style scoped>\n",
              "    .dataframe tbody tr th:only-of-type {\n",
              "        vertical-align: middle;\n",
              "    }\n",
              "\n",
              "    .dataframe tbody tr th {\n",
              "        vertical-align: top;\n",
              "    }\n",
              "\n",
              "    .dataframe thead th {\n",
              "        text-align: right;\n",
              "    }\n",
              "</style>\n",
              "<table border=\"1\" class=\"dataframe\">\n",
              "  <thead>\n",
              "    <tr style=\"text-align: right;\">\n",
              "      <th></th>\n",
              "      <th>sentence</th>\n",
              "    </tr>\n",
              "  </thead>\n",
              "  <tbody>\n",
              "    <tr>\n",
              "      <th>0</th>\n",
              "      <td>fusce risus ex posuere at ante at condimentum ...</td>\n",
              "    </tr>\n",
              "    <tr>\n",
              "      <th>1</th>\n",
              "      <td>phasellus vitae elit efficitur varius felis id...</td>\n",
              "    </tr>\n",
              "    <tr>\n",
              "      <th>2</th>\n",
              "      <td>curabitur vestibulum lorem diam nec dictum lec...</td>\n",
              "    </tr>\n",
              "    <tr>\n",
              "      <th>3</th>\n",
              "      <td>curabitur facilisis elementum ligula vitae pel...</td>\n",
              "    </tr>\n",
              "  </tbody>\n",
              "</table>\n",
              "</div>"
            ],
            "text/plain": [
              "                                            sentence\n",
              "0  fusce risus ex posuere at ante at condimentum ...\n",
              "1  phasellus vitae elit efficitur varius felis id...\n",
              "2  curabitur vestibulum lorem diam nec dictum lec...\n",
              "3  curabitur facilisis elementum ligula vitae pel..."
            ]
          },
          "metadata": {},
          "execution_count": 7
        }
      ]
    },
    {
      "cell_type": "markdown",
      "metadata": {
        "id": "VGV0p_Cx02W0"
      },
      "source": [
        "Now that we have this DataFrame, we'll remove the repeated words and transform the unique words into the columns of the DataFrame, so that the numbers in the DataFrame shows how much that words appeared in each of the four sentences.\n",
        "\n",
        "For this we can use the set data structure and convert it into a list."
      ]
    },
    {
      "cell_type": "code",
      "metadata": {
        "id": "gc_dvAU7Brv2",
        "colab": {
          "base_uri": "https://localhost:8080/"
        },
        "outputId": "c005b727-5d95-4cb0-fff9-3faab53ebe59"
      },
      "source": [
        "unique_words_list = []\n",
        "i = 0\n",
        "while i < len(df_words.index):\n",
        "    unique_words_list = unique_words_list + df_words.iloc[:, 0][i].split()\n",
        "    i += 1\n",
        "unique_words_list = list(set(unique_words_list))\n",
        "print(f'We have {len(unique_words_list)} unique words.')"
      ],
      "execution_count": 10,
      "outputs": [
        {
          "output_type": "stream",
          "name": "stdout",
          "text": [
            "We have 142 unique words.\n"
          ]
        }
      ]
    },
    {
      "cell_type": "markdown",
      "metadata": {
        "id": "KCWzHmvr4EwC"
      },
      "source": [
        "Now let's go ahead and construct the DataFrame."
      ]
    },
    {
      "cell_type": "code",
      "metadata": {
        "colab": {
          "base_uri": "https://localhost:8080/",
          "height": 224
        },
        "id": "aK16hJj_1zJA",
        "outputId": "e9a8e36d-c864-40b3-cf56-ab1a5eef3c09"
      },
      "source": [
        "unique_words_list.sort()\n",
        "df_final = pd.DataFrame(columns = unique_words_list)\n",
        "line = ['']*len(unique_words_list)\n",
        "i = 0\n",
        "while i < len(df_words.index):\n",
        "    j = 0\n",
        "    while j < len(unique_words_list):\n",
        "        word_counted = df_final.columns[j]\n",
        "        line[j] = df_words['sentence'][i].count(word_counted)\n",
        "        j += 1\n",
        "    count_row = pd.Series(line, index = df_final.columns)\n",
        "    df_final = df_final.append(count_row, ignore_index=True)\n",
        "    i += 1\n",
        "df_final"
      ],
      "execution_count": 12,
      "outputs": [
        {
          "output_type": "execute_result",
          "data": {
            "text/html": [
              "<div>\n",
              "<style scoped>\n",
              "    .dataframe tbody tr th:only-of-type {\n",
              "        vertical-align: middle;\n",
              "    }\n",
              "\n",
              "    .dataframe tbody tr th {\n",
              "        vertical-align: top;\n",
              "    }\n",
              "\n",
              "    .dataframe thead th {\n",
              "        text-align: right;\n",
              "    }\n",
              "</style>\n",
              "<table border=\"1\" class=\"dataframe\">\n",
              "  <thead>\n",
              "    <tr style=\"text-align: right;\">\n",
              "      <th></th>\n",
              "      <th>a</th>\n",
              "      <th>ac</th>\n",
              "      <th>accumsan</th>\n",
              "      <th>ad</th>\n",
              "      <th>aenean</th>\n",
              "      <th>amet</th>\n",
              "      <th>ante</th>\n",
              "      <th>aptent</th>\n",
              "      <th>arcu</th>\n",
              "      <th>at</th>\n",
              "      <th>auctor</th>\n",
              "      <th>bibendum</th>\n",
              "      <th>class</th>\n",
              "      <th>condimentum</th>\n",
              "      <th>congue</th>\n",
              "      <th>consectetur</th>\n",
              "      <th>consequat</th>\n",
              "      <th>conubia</th>\n",
              "      <th>curabitur</th>\n",
              "      <th>dapibus</th>\n",
              "      <th>diam</th>\n",
              "      <th>dictum</th>\n",
              "      <th>dictumst</th>\n",
              "      <th>dignissim</th>\n",
              "      <th>dolor</th>\n",
              "      <th>donec</th>\n",
              "      <th>dui</th>\n",
              "      <th>duis</th>\n",
              "      <th>efficitur</th>\n",
              "      <th>egestas</th>\n",
              "      <th>eget</th>\n",
              "      <th>eleifend</th>\n",
              "      <th>elementum</th>\n",
              "      <th>elit</th>\n",
              "      <th>erat</th>\n",
              "      <th>eros</th>\n",
              "      <th>est</th>\n",
              "      <th>et</th>\n",
              "      <th>eu</th>\n",
              "      <th>ex</th>\n",
              "      <th>...</th>\n",
              "      <th>pulvinar</th>\n",
              "      <th>quam</th>\n",
              "      <th>quis</th>\n",
              "      <th>quisque</th>\n",
              "      <th>risus</th>\n",
              "      <th>rutrum</th>\n",
              "      <th>sagittis</th>\n",
              "      <th>sapien</th>\n",
              "      <th>scelerisque</th>\n",
              "      <th>sed</th>\n",
              "      <th>sem</th>\n",
              "      <th>semper</th>\n",
              "      <th>senectus</th>\n",
              "      <th>sit</th>\n",
              "      <th>sociosqu</th>\n",
              "      <th>sodales</th>\n",
              "      <th>sollicitudin</th>\n",
              "      <th>suscipit</th>\n",
              "      <th>taciti</th>\n",
              "      <th>tempor</th>\n",
              "      <th>tempus</th>\n",
              "      <th>tincidunt</th>\n",
              "      <th>torquent</th>\n",
              "      <th>tristique</th>\n",
              "      <th>turpis</th>\n",
              "      <th>ultrices</th>\n",
              "      <th>ultricies</th>\n",
              "      <th>urna</th>\n",
              "      <th>ut</th>\n",
              "      <th>varius</th>\n",
              "      <th>vehicula</th>\n",
              "      <th>vel</th>\n",
              "      <th>velit</th>\n",
              "      <th>venenatis</th>\n",
              "      <th>vestibulum</th>\n",
              "      <th>vitae</th>\n",
              "      <th>vivamus</th>\n",
              "      <th>viverra</th>\n",
              "      <th>volutpat</th>\n",
              "      <th>vulputate</th>\n",
              "    </tr>\n",
              "  </thead>\n",
              "  <tbody>\n",
              "    <tr>\n",
              "      <th>0</th>\n",
              "      <td>33</td>\n",
              "      <td>1</td>\n",
              "      <td>0</td>\n",
              "      <td>0</td>\n",
              "      <td>1</td>\n",
              "      <td>0</td>\n",
              "      <td>1</td>\n",
              "      <td>0</td>\n",
              "      <td>1</td>\n",
              "      <td>5</td>\n",
              "      <td>0</td>\n",
              "      <td>1</td>\n",
              "      <td>0</td>\n",
              "      <td>1</td>\n",
              "      <td>1</td>\n",
              "      <td>1</td>\n",
              "      <td>0</td>\n",
              "      <td>0</td>\n",
              "      <td>0</td>\n",
              "      <td>1</td>\n",
              "      <td>0</td>\n",
              "      <td>1</td>\n",
              "      <td>0</td>\n",
              "      <td>0</td>\n",
              "      <td>1</td>\n",
              "      <td>1</td>\n",
              "      <td>2</td>\n",
              "      <td>0</td>\n",
              "      <td>0</td>\n",
              "      <td>1</td>\n",
              "      <td>2</td>\n",
              "      <td>0</td>\n",
              "      <td>0</td>\n",
              "      <td>0</td>\n",
              "      <td>0</td>\n",
              "      <td>1</td>\n",
              "      <td>3</td>\n",
              "      <td>8</td>\n",
              "      <td>4</td>\n",
              "      <td>1</td>\n",
              "      <td>...</td>\n",
              "      <td>0</td>\n",
              "      <td>1</td>\n",
              "      <td>1</td>\n",
              "      <td>0</td>\n",
              "      <td>2</td>\n",
              "      <td>0</td>\n",
              "      <td>0</td>\n",
              "      <td>1</td>\n",
              "      <td>1</td>\n",
              "      <td>0</td>\n",
              "      <td>1</td>\n",
              "      <td>1</td>\n",
              "      <td>0</td>\n",
              "      <td>0</td>\n",
              "      <td>0</td>\n",
              "      <td>0</td>\n",
              "      <td>1</td>\n",
              "      <td>1</td>\n",
              "      <td>0</td>\n",
              "      <td>3</td>\n",
              "      <td>2</td>\n",
              "      <td>1</td>\n",
              "      <td>0</td>\n",
              "      <td>0</td>\n",
              "      <td>0</td>\n",
              "      <td>1</td>\n",
              "      <td>0</td>\n",
              "      <td>0</td>\n",
              "      <td>2</td>\n",
              "      <td>1</td>\n",
              "      <td>0</td>\n",
              "      <td>1</td>\n",
              "      <td>0</td>\n",
              "      <td>0</td>\n",
              "      <td>2</td>\n",
              "      <td>2</td>\n",
              "      <td>1</td>\n",
              "      <td>1</td>\n",
              "      <td>1</td>\n",
              "      <td>0</td>\n",
              "    </tr>\n",
              "    <tr>\n",
              "      <th>1</th>\n",
              "      <td>45</td>\n",
              "      <td>4</td>\n",
              "      <td>0</td>\n",
              "      <td>1</td>\n",
              "      <td>1</td>\n",
              "      <td>2</td>\n",
              "      <td>0</td>\n",
              "      <td>0</td>\n",
              "      <td>0</td>\n",
              "      <td>5</td>\n",
              "      <td>0</td>\n",
              "      <td>1</td>\n",
              "      <td>0</td>\n",
              "      <td>0</td>\n",
              "      <td>0</td>\n",
              "      <td>0</td>\n",
              "      <td>0</td>\n",
              "      <td>0</td>\n",
              "      <td>0</td>\n",
              "      <td>3</td>\n",
              "      <td>0</td>\n",
              "      <td>2</td>\n",
              "      <td>1</td>\n",
              "      <td>0</td>\n",
              "      <td>1</td>\n",
              "      <td>0</td>\n",
              "      <td>2</td>\n",
              "      <td>2</td>\n",
              "      <td>1</td>\n",
              "      <td>1</td>\n",
              "      <td>2</td>\n",
              "      <td>0</td>\n",
              "      <td>0</td>\n",
              "      <td>2</td>\n",
              "      <td>1</td>\n",
              "      <td>1</td>\n",
              "      <td>1</td>\n",
              "      <td>12</td>\n",
              "      <td>2</td>\n",
              "      <td>1</td>\n",
              "      <td>...</td>\n",
              "      <td>2</td>\n",
              "      <td>0</td>\n",
              "      <td>1</td>\n",
              "      <td>0</td>\n",
              "      <td>0</td>\n",
              "      <td>1</td>\n",
              "      <td>0</td>\n",
              "      <td>0</td>\n",
              "      <td>1</td>\n",
              "      <td>2</td>\n",
              "      <td>1</td>\n",
              "      <td>0</td>\n",
              "      <td>1</td>\n",
              "      <td>2</td>\n",
              "      <td>0</td>\n",
              "      <td>0</td>\n",
              "      <td>1</td>\n",
              "      <td>0</td>\n",
              "      <td>0</td>\n",
              "      <td>0</td>\n",
              "      <td>1</td>\n",
              "      <td>0</td>\n",
              "      <td>0</td>\n",
              "      <td>1</td>\n",
              "      <td>1</td>\n",
              "      <td>2</td>\n",
              "      <td>0</td>\n",
              "      <td>1</td>\n",
              "      <td>4</td>\n",
              "      <td>1</td>\n",
              "      <td>1</td>\n",
              "      <td>1</td>\n",
              "      <td>1</td>\n",
              "      <td>0</td>\n",
              "      <td>0</td>\n",
              "      <td>2</td>\n",
              "      <td>0</td>\n",
              "      <td>0</td>\n",
              "      <td>1</td>\n",
              "      <td>1</td>\n",
              "    </tr>\n",
              "    <tr>\n",
              "      <th>2</th>\n",
              "      <td>34</td>\n",
              "      <td>1</td>\n",
              "      <td>0</td>\n",
              "      <td>1</td>\n",
              "      <td>1</td>\n",
              "      <td>3</td>\n",
              "      <td>1</td>\n",
              "      <td>1</td>\n",
              "      <td>1</td>\n",
              "      <td>4</td>\n",
              "      <td>0</td>\n",
              "      <td>1</td>\n",
              "      <td>1</td>\n",
              "      <td>0</td>\n",
              "      <td>0</td>\n",
              "      <td>0</td>\n",
              "      <td>0</td>\n",
              "      <td>1</td>\n",
              "      <td>1</td>\n",
              "      <td>0</td>\n",
              "      <td>1</td>\n",
              "      <td>1</td>\n",
              "      <td>0</td>\n",
              "      <td>2</td>\n",
              "      <td>0</td>\n",
              "      <td>2</td>\n",
              "      <td>1</td>\n",
              "      <td>0</td>\n",
              "      <td>0</td>\n",
              "      <td>1</td>\n",
              "      <td>1</td>\n",
              "      <td>1</td>\n",
              "      <td>0</td>\n",
              "      <td>2</td>\n",
              "      <td>0</td>\n",
              "      <td>0</td>\n",
              "      <td>3</td>\n",
              "      <td>9</td>\n",
              "      <td>0</td>\n",
              "      <td>1</td>\n",
              "      <td>...</td>\n",
              "      <td>0</td>\n",
              "      <td>0</td>\n",
              "      <td>1</td>\n",
              "      <td>1</td>\n",
              "      <td>0</td>\n",
              "      <td>0</td>\n",
              "      <td>1</td>\n",
              "      <td>1</td>\n",
              "      <td>0</td>\n",
              "      <td>1</td>\n",
              "      <td>1</td>\n",
              "      <td>0</td>\n",
              "      <td>0</td>\n",
              "      <td>3</td>\n",
              "      <td>1</td>\n",
              "      <td>1</td>\n",
              "      <td>0</td>\n",
              "      <td>1</td>\n",
              "      <td>1</td>\n",
              "      <td>1</td>\n",
              "      <td>0</td>\n",
              "      <td>0</td>\n",
              "      <td>1</td>\n",
              "      <td>1</td>\n",
              "      <td>0</td>\n",
              "      <td>2</td>\n",
              "      <td>1</td>\n",
              "      <td>0</td>\n",
              "      <td>2</td>\n",
              "      <td>0</td>\n",
              "      <td>0</td>\n",
              "      <td>1</td>\n",
              "      <td>1</td>\n",
              "      <td>0</td>\n",
              "      <td>2</td>\n",
              "      <td>2</td>\n",
              "      <td>1</td>\n",
              "      <td>0</td>\n",
              "      <td>0</td>\n",
              "      <td>0</td>\n",
              "    </tr>\n",
              "    <tr>\n",
              "      <th>3</th>\n",
              "      <td>31</td>\n",
              "      <td>4</td>\n",
              "      <td>1</td>\n",
              "      <td>0</td>\n",
              "      <td>0</td>\n",
              "      <td>1</td>\n",
              "      <td>0</td>\n",
              "      <td>0</td>\n",
              "      <td>2</td>\n",
              "      <td>3</td>\n",
              "      <td>2</td>\n",
              "      <td>0</td>\n",
              "      <td>0</td>\n",
              "      <td>0</td>\n",
              "      <td>1</td>\n",
              "      <td>0</td>\n",
              "      <td>1</td>\n",
              "      <td>0</td>\n",
              "      <td>1</td>\n",
              "      <td>0</td>\n",
              "      <td>0</td>\n",
              "      <td>1</td>\n",
              "      <td>0</td>\n",
              "      <td>0</td>\n",
              "      <td>0</td>\n",
              "      <td>0</td>\n",
              "      <td>0</td>\n",
              "      <td>0</td>\n",
              "      <td>0</td>\n",
              "      <td>0</td>\n",
              "      <td>2</td>\n",
              "      <td>0</td>\n",
              "      <td>1</td>\n",
              "      <td>0</td>\n",
              "      <td>0</td>\n",
              "      <td>3</td>\n",
              "      <td>1</td>\n",
              "      <td>5</td>\n",
              "      <td>1</td>\n",
              "      <td>0</td>\n",
              "      <td>...</td>\n",
              "      <td>0</td>\n",
              "      <td>0</td>\n",
              "      <td>0</td>\n",
              "      <td>0</td>\n",
              "      <td>0</td>\n",
              "      <td>0</td>\n",
              "      <td>0</td>\n",
              "      <td>0</td>\n",
              "      <td>0</td>\n",
              "      <td>3</td>\n",
              "      <td>2</td>\n",
              "      <td>1</td>\n",
              "      <td>0</td>\n",
              "      <td>1</td>\n",
              "      <td>0</td>\n",
              "      <td>1</td>\n",
              "      <td>0</td>\n",
              "      <td>1</td>\n",
              "      <td>0</td>\n",
              "      <td>0</td>\n",
              "      <td>0</td>\n",
              "      <td>0</td>\n",
              "      <td>0</td>\n",
              "      <td>1</td>\n",
              "      <td>0</td>\n",
              "      <td>0</td>\n",
              "      <td>0</td>\n",
              "      <td>0</td>\n",
              "      <td>1</td>\n",
              "      <td>0</td>\n",
              "      <td>0</td>\n",
              "      <td>2</td>\n",
              "      <td>0</td>\n",
              "      <td>1</td>\n",
              "      <td>0</td>\n",
              "      <td>1</td>\n",
              "      <td>1</td>\n",
              "      <td>1</td>\n",
              "      <td>0</td>\n",
              "      <td>0</td>\n",
              "    </tr>\n",
              "  </tbody>\n",
              "</table>\n",
              "<p>4 rows × 142 columns</p>\n",
              "</div>"
            ],
            "text/plain": [
              "    a ac accumsan ad aenean  ... vitae vivamus viverra volutpat vulputate\n",
              "0  33  1        0  0      1  ...     2       1       1        1         0\n",
              "1  45  4        0  1      1  ...     2       0       0        1         1\n",
              "2  34  1        0  1      1  ...     2       1       0        0         0\n",
              "3  31  4        1  0      0  ...     1       1       1        0         0\n",
              "\n",
              "[4 rows x 142 columns]"
            ]
          },
          "metadata": {},
          "execution_count": 12
        }
      ]
    },
    {
      "cell_type": "markdown",
      "metadata": {
        "id": "RVXS82bm9Ygp"
      },
      "source": [
        "# Check Text"
      ]
    },
    {
      "cell_type": "markdown",
      "metadata": {
        "id": "TYlNBX3W9ai2"
      },
      "source": [
        "We can sort the text to see which words are most frequent in each sentence."
      ]
    },
    {
      "cell_type": "code",
      "metadata": {
        "colab": {
          "base_uri": "https://localhost:8080/",
          "height": 424
        },
        "id": "ax1G0aDN8R8b",
        "outputId": "5c847ca1-38e8-4418-aa59-fecd1693d247"
      },
      "source": [
        "df_final.T.sort_values(by = [0, 1, 2, 3], ascending = False)"
      ],
      "execution_count": 13,
      "outputs": [
        {
          "output_type": "execute_result",
          "data": {
            "text/html": [
              "<div>\n",
              "<style scoped>\n",
              "    .dataframe tbody tr th:only-of-type {\n",
              "        vertical-align: middle;\n",
              "    }\n",
              "\n",
              "    .dataframe tbody tr th {\n",
              "        vertical-align: top;\n",
              "    }\n",
              "\n",
              "    .dataframe thead th {\n",
              "        text-align: right;\n",
              "    }\n",
              "</style>\n",
              "<table border=\"1\" class=\"dataframe\">\n",
              "  <thead>\n",
              "    <tr style=\"text-align: right;\">\n",
              "      <th></th>\n",
              "      <th>0</th>\n",
              "      <th>1</th>\n",
              "      <th>2</th>\n",
              "      <th>3</th>\n",
              "    </tr>\n",
              "  </thead>\n",
              "  <tbody>\n",
              "    <tr>\n",
              "      <th>a</th>\n",
              "      <td>33</td>\n",
              "      <td>45</td>\n",
              "      <td>34</td>\n",
              "      <td>31</td>\n",
              "    </tr>\n",
              "    <tr>\n",
              "      <th>et</th>\n",
              "      <td>8</td>\n",
              "      <td>12</td>\n",
              "      <td>9</td>\n",
              "      <td>5</td>\n",
              "    </tr>\n",
              "    <tr>\n",
              "      <th>in</th>\n",
              "      <td>6</td>\n",
              "      <td>7</td>\n",
              "      <td>3</td>\n",
              "      <td>2</td>\n",
              "    </tr>\n",
              "    <tr>\n",
              "      <th>at</th>\n",
              "      <td>5</td>\n",
              "      <td>5</td>\n",
              "      <td>4</td>\n",
              "      <td>3</td>\n",
              "    </tr>\n",
              "    <tr>\n",
              "      <th>eu</th>\n",
              "      <td>4</td>\n",
              "      <td>2</td>\n",
              "      <td>0</td>\n",
              "      <td>1</td>\n",
              "    </tr>\n",
              "    <tr>\n",
              "      <th>...</th>\n",
              "      <td>...</td>\n",
              "      <td>...</td>\n",
              "      <td>...</td>\n",
              "      <td>...</td>\n",
              "    </tr>\n",
              "    <tr>\n",
              "      <th>consequat</th>\n",
              "      <td>0</td>\n",
              "      <td>0</td>\n",
              "      <td>0</td>\n",
              "      <td>1</td>\n",
              "    </tr>\n",
              "    <tr>\n",
              "      <th>elementum</th>\n",
              "      <td>0</td>\n",
              "      <td>0</td>\n",
              "      <td>0</td>\n",
              "      <td>1</td>\n",
              "    </tr>\n",
              "    <tr>\n",
              "      <th>facilisis</th>\n",
              "      <td>0</td>\n",
              "      <td>0</td>\n",
              "      <td>0</td>\n",
              "      <td>1</td>\n",
              "    </tr>\n",
              "    <tr>\n",
              "      <th>ligula</th>\n",
              "      <td>0</td>\n",
              "      <td>0</td>\n",
              "      <td>0</td>\n",
              "      <td>1</td>\n",
              "    </tr>\n",
              "    <tr>\n",
              "      <th>venenatis</th>\n",
              "      <td>0</td>\n",
              "      <td>0</td>\n",
              "      <td>0</td>\n",
              "      <td>1</td>\n",
              "    </tr>\n",
              "  </tbody>\n",
              "</table>\n",
              "<p>142 rows × 4 columns</p>\n",
              "</div>"
            ],
            "text/plain": [
              "            0   1   2   3\n",
              "a          33  45  34  31\n",
              "et          8  12   9   5\n",
              "in          6   7   3   2\n",
              "at          5   5   4   3\n",
              "eu          4   2   0   1\n",
              "...        ..  ..  ..  ..\n",
              "consequat   0   0   0   1\n",
              "elementum   0   0   0   1\n",
              "facilisis   0   0   0   1\n",
              "ligula      0   0   0   1\n",
              "venenatis   0   0   0   1\n",
              "\n",
              "[142 rows x 4 columns]"
            ]
          },
          "metadata": {},
          "execution_count": 13
        }
      ]
    },
    {
      "cell_type": "markdown",
      "metadata": {
        "id": "Nz_hWpU09f9u"
      },
      "source": [
        "From this we see that \"a\" and \"et\" are the most frequent words in the senteces."
      ]
    },
    {
      "cell_type": "markdown",
      "metadata": {
        "id": "FlrvV3Yw7qSi"
      },
      "source": [
        "# References\n",
        "\n",
        "- [Understanding NLP Word Embeddings — Text Vectorization](https://towardsdatascience.com/understanding-nlp-word-embeddings-text-vectorization-1a23744f7223)\n",
        "- [Text Classification Demystified: An Introduction to Word Embeddings](https://www.freecodecamp.org/news/demystify-state-of-the-art-text-classification-word-embeddings/)\n",
        "- [Word Embedding In NLP with Python Code Implementation](https://www.analyticssteps.com/blogs/word-embedding-nlp-python-code)\n",
        "- [Cosine Similarity](https://www.sciencedirect.com/topics/computer-science/cosine-similarity)\n",
        "- [Understanding Cosine Similarity And Its Application](https://towardsdatascience.com/understanding-cosine-similarity-and-its-application-fd42f585296a)\n",
        "- [Cosine Similarity – Understanding the math and how it works (with python codes)](https://www.machinelearningplus.com/nlp/cosine-similarity/)\n",
        "- [Transforming a Text to Vector](https://stackoverflow.com/questions/17053459/how-to-transform-a-text-to-vector)\n",
        "- [Getting Started with Text Vectorization](https://towardsdatascience.com/getting-started-with-text-vectorization-2f2efbec6685)\n",
        "- [Word Embedding: fazendo o computador entender o significado das palavras](https://medium.com/turing-talks/word-embedding-fazendo-o-computador-entender-o-significado-das-palavras-92fe22745057)"
      ]
    }
  ]
}