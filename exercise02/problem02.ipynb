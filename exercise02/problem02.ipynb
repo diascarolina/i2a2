{
  "cells": [
    {
      "cell_type": "markdown",
      "metadata": {
        "id": "view-in-github",
        "colab_type": "text"
      },
      "source": [
        "<a href=\"https://colab.research.google.com/github/diascarolina/i2a2/blob/main/exercise02/problem02.ipynb\" target=\"_parent\"><img src=\"https://colab.research.google.com/assets/colab-badge.svg\" alt=\"Open In Colab\"/></a>"
      ]
    },
    {
      "cell_type": "markdown",
      "metadata": {
        "id": "4x_kp9KJnnmw"
      },
      "source": [
        "# Problem 02: Preparing the Titanic Dataset\n",
        "\n",
        "**Author:** Carolina Araujo Dias\n",
        "\n",
        "---"
      ]
    },
    {
      "cell_type": "markdown",
      "metadata": {
        "id": "MfPFS5BzntOE"
      },
      "source": [
        "In this problem, we use de CRISP-DS methodology to clean, prepare and analyze the well-known Titanic dataset. CRISP-DS is an adaptation for Data Science of the cyclic methodology CRISP-DM (_Cross Industry Standard Process for Data Mining_). [[1]](https://blog.magrathealabs.com/crisp-ds-cyclic-methodology-for-data-science-projects-10c7d00fbc85)\n",
        "\n",
        "\n",
        "These are the steps involved in the CRISP-DS methodology:\n",
        "\n",
        "![](https://raw.githubusercontent.com/diascarolina/i2a2/main/img/crisp-ds.png)\n",
        "\n",
        "Since this is a fairly straightforward problem, we only need to go through the cycle once.\n",
        "\n",
        "Our **Business Problem** is to predict whether a passenger survived the sinking of Titanic. This is a famous dataset generally used to learn about Data Science and Machine Learning, and it can also be found at Kaggle:\n",
        "\n",
        "- [Kaggle Problem: \"Titanic - Machine Learning from Disaster\"](https://www.kaggle.com/c/titanic)"
      ]
    },
    {
      "cell_type": "markdown",
      "metadata": {
        "id": "07L1eM-gqxPO"
      },
      "source": [
        "# 1 Business Understanding\n",
        "\n",
        "From the Kaggle Problem page:\n",
        "\n",
        "> The sinking of the Titanic is one of the most infamous shipwrecks in history.\n",
        ">\n",
        "> On April 15, 1912, during her maiden voyage, the widely considered “unsinkable” RMS Titanic sank after colliding with an iceberg. Unfortunately, there weren’t enough lifeboats for everyone onboard, resulting in the death of 1502 out of 2224 passengers and crew.\n",
        ">\n",
        "> While there was some element of luck involved in surviving, it seems some groups of people were more likely to survive than others."
      ]
    },
    {
      "cell_type": "markdown",
      "metadata": {
        "id": "toITjUXGq-MM"
      },
      "source": [
        "# 2 Data Extraction\n",
        "\n",
        "We don't need to extract this data, since it is already given to us. So, in this step, let's import the necessary libraries and load up the data into the notebook."
      ]
    },
    {
      "cell_type": "code",
      "execution_count": 6,
      "metadata": {
        "id": "Gi-H-3TQrPbM"
      },
      "outputs": [],
      "source": [
        "import pandas as pd\n",
        "import numpy as np\n",
        "import matplotlib.pyplot as plt\n",
        "import seaborn as sns\n",
        "\n",
        "from sklearn.ensemble import RandomForestClassifier"
      ]
    },
    {
      "cell_type": "code",
      "execution_count": 7,
      "metadata": {
        "id": "5YvnScJSrQwR"
      },
      "outputs": [],
      "source": [
        "df_train_raw = pd.read_excel('https://github.com/diascarolina/i2a2/blob/main/exercise02/train.xlsx?raw=true')\n",
        "df_test_raw = pd.read_excel('https://github.com/diascarolina/i2a2/blob/main/exercise02/test.xlsx?raw=true')"
      ]
    },
    {
      "cell_type": "markdown",
      "metadata": {
        "id": "6vYJHP6Ur2nj"
      },
      "source": [
        "# 3 Data Cleaning & EDA\n",
        "\n",
        "Let's first understand the data that we have here by checking what each column means by looking at its data dictionary.\n",
        "\n",
        "- **Kaggle_Pass_Id**: the id of a person (used on Kaggle)\n",
        "- **pclass**: ticket class,\t1 = 1st, 2 = 2nd, 3 = 3rd\n",
        "- **survived**: whether someone survived or not (0 no, 1 yes)\n",
        "- **name**: the name of a person\n",
        "- **sex**: the gender of a person\n",
        "- **age**: the age of a person\n",
        "- **sibsp**: number of siblings / spouses aboard the Titanic\n",
        "- **parch**: number of parents / children aboard the Titanic\n",
        "- **ticket**: ticket number\n",
        "- **fare**: passenger fare\n",
        "- **cabin**: cabin number\n",
        "- **embarked**: port of embarkation, C = Cherbourg, Q = Queenstown, S = Southampton\n",
        "\n",
        "The following information are not provided in the data dictionary:\n",
        "- **boat**\n",
        "- **body**\n",
        "- **home.dest**\n",
        "- **orig_seq** "
      ]
    },
    {
      "cell_type": "markdown",
      "metadata": {
        "id": "2OgkkSFgbrTi"
      },
      "source": [
        "Let's check the first five lines of the datasets (train and test), to get a general look for the data."
      ]
    },
    {
      "cell_type": "code",
      "source": [
        "df_train = df_train_raw.copy()\n",
        "df_test = df_test_raw.copy()"
      ],
      "metadata": {
        "id": "PqG09YaUgIvR"
      },
      "execution_count": 8,
      "outputs": []
    },
    {
      "cell_type": "code",
      "execution_count": 9,
      "metadata": {
        "colab": {
          "base_uri": "https://localhost:8080/",
          "height": 320
        },
        "id": "YHuAHGIGsdlI",
        "outputId": "00e5af54-09a9-4b54-b6de-80e7063e65a7"
      },
      "outputs": [
        {
          "output_type": "execute_result",
          "data": {
            "text/html": [
              "\n",
              "  <div id=\"df-dde875d1-d9f7-4583-8b68-92275110287f\">\n",
              "    <div class=\"colab-df-container\">\n",
              "      <div>\n",
              "<style scoped>\n",
              "    .dataframe tbody tr th:only-of-type {\n",
              "        vertical-align: middle;\n",
              "    }\n",
              "\n",
              "    .dataframe tbody tr th {\n",
              "        vertical-align: top;\n",
              "    }\n",
              "\n",
              "    .dataframe thead th {\n",
              "        text-align: right;\n",
              "    }\n",
              "</style>\n",
              "<table border=\"1\" class=\"dataframe\">\n",
              "  <thead>\n",
              "    <tr style=\"text-align: right;\">\n",
              "      <th></th>\n",
              "      <th>Kaggle_Pass_Id</th>\n",
              "      <th>pclass</th>\n",
              "      <th>survived</th>\n",
              "      <th>name</th>\n",
              "      <th>sex</th>\n",
              "      <th>age</th>\n",
              "      <th>sibsp</th>\n",
              "      <th>parch</th>\n",
              "      <th>ticket</th>\n",
              "      <th>fare</th>\n",
              "      <th>cabin</th>\n",
              "      <th>embarked</th>\n",
              "      <th>boat</th>\n",
              "      <th>body</th>\n",
              "      <th>home.dest</th>\n",
              "      <th>orig_seq</th>\n",
              "    </tr>\n",
              "  </thead>\n",
              "  <tbody>\n",
              "    <tr>\n",
              "      <th>0</th>\n",
              "      <td>1</td>\n",
              "      <td>3</td>\n",
              "      <td>0</td>\n",
              "      <td>Braund, Mr. Owen Harris</td>\n",
              "      <td>male</td>\n",
              "      <td>22.0</td>\n",
              "      <td>1</td>\n",
              "      <td>0</td>\n",
              "      <td>A/5 21171</td>\n",
              "      <td>7.2500</td>\n",
              "      <td>NaN</td>\n",
              "      <td>S</td>\n",
              "      <td>NaN</td>\n",
              "      <td>NaN</td>\n",
              "      <td>Bridgerule, Devon</td>\n",
              "      <td>690</td>\n",
              "    </tr>\n",
              "    <tr>\n",
              "      <th>1</th>\n",
              "      <td>2</td>\n",
              "      <td>1</td>\n",
              "      <td>1</td>\n",
              "      <td>Cumings, Mrs. John Bradley (Florence Briggs Th...</td>\n",
              "      <td>female</td>\n",
              "      <td>38.0</td>\n",
              "      <td>1</td>\n",
              "      <td>0</td>\n",
              "      <td>PC 17599</td>\n",
              "      <td>71.2833</td>\n",
              "      <td>C85</td>\n",
              "      <td>C</td>\n",
              "      <td>4</td>\n",
              "      <td>NaN</td>\n",
              "      <td>New York, NY</td>\n",
              "      <td>86</td>\n",
              "    </tr>\n",
              "    <tr>\n",
              "      <th>2</th>\n",
              "      <td>3</td>\n",
              "      <td>3</td>\n",
              "      <td>1</td>\n",
              "      <td>Heikkinen, Miss. Laina</td>\n",
              "      <td>female</td>\n",
              "      <td>26.0</td>\n",
              "      <td>0</td>\n",
              "      <td>0</td>\n",
              "      <td>STON/O2. 3101282</td>\n",
              "      <td>7.9250</td>\n",
              "      <td>NaN</td>\n",
              "      <td>S</td>\n",
              "      <td>NaN</td>\n",
              "      <td>NaN</td>\n",
              "      <td>NaN</td>\n",
              "      <td>861</td>\n",
              "    </tr>\n",
              "    <tr>\n",
              "      <th>3</th>\n",
              "      <td>4</td>\n",
              "      <td>1</td>\n",
              "      <td>1</td>\n",
              "      <td>Futrelle, Mrs. Jacques Heath (Lily May Peel)</td>\n",
              "      <td>female</td>\n",
              "      <td>35.0</td>\n",
              "      <td>1</td>\n",
              "      <td>0</td>\n",
              "      <td>113803</td>\n",
              "      <td>53.1000</td>\n",
              "      <td>C123</td>\n",
              "      <td>S</td>\n",
              "      <td>D</td>\n",
              "      <td>NaN</td>\n",
              "      <td>Scituate, MA</td>\n",
              "      <td>128</td>\n",
              "    </tr>\n",
              "    <tr>\n",
              "      <th>4</th>\n",
              "      <td>5</td>\n",
              "      <td>3</td>\n",
              "      <td>0</td>\n",
              "      <td>Allen, Mr. William Henry</td>\n",
              "      <td>male</td>\n",
              "      <td>35.0</td>\n",
              "      <td>0</td>\n",
              "      <td>0</td>\n",
              "      <td>373450</td>\n",
              "      <td>8.0500</td>\n",
              "      <td>NaN</td>\n",
              "      <td>S</td>\n",
              "      <td>NaN</td>\n",
              "      <td>NaN</td>\n",
              "      <td>Lower Clapton, Middlesex or Erdington, Birmingham</td>\n",
              "      <td>619</td>\n",
              "    </tr>\n",
              "  </tbody>\n",
              "</table>\n",
              "</div>\n",
              "      <button class=\"colab-df-convert\" onclick=\"convertToInteractive('df-dde875d1-d9f7-4583-8b68-92275110287f')\"\n",
              "              title=\"Convert this dataframe to an interactive table.\"\n",
              "              style=\"display:none;\">\n",
              "        \n",
              "  <svg xmlns=\"http://www.w3.org/2000/svg\" height=\"24px\"viewBox=\"0 0 24 24\"\n",
              "       width=\"24px\">\n",
              "    <path d=\"M0 0h24v24H0V0z\" fill=\"none\"/>\n",
              "    <path d=\"M18.56 5.44l.94 2.06.94-2.06 2.06-.94-2.06-.94-.94-2.06-.94 2.06-2.06.94zm-11 1L8.5 8.5l.94-2.06 2.06-.94-2.06-.94L8.5 2.5l-.94 2.06-2.06.94zm10 10l.94 2.06.94-2.06 2.06-.94-2.06-.94-.94-2.06-.94 2.06-2.06.94z\"/><path d=\"M17.41 7.96l-1.37-1.37c-.4-.4-.92-.59-1.43-.59-.52 0-1.04.2-1.43.59L10.3 9.45l-7.72 7.72c-.78.78-.78 2.05 0 2.83L4 21.41c.39.39.9.59 1.41.59.51 0 1.02-.2 1.41-.59l7.78-7.78 2.81-2.81c.8-.78.8-2.07 0-2.86zM5.41 20L4 18.59l7.72-7.72 1.47 1.35L5.41 20z\"/>\n",
              "  </svg>\n",
              "      </button>\n",
              "      \n",
              "  <style>\n",
              "    .colab-df-container {\n",
              "      display:flex;\n",
              "      flex-wrap:wrap;\n",
              "      gap: 12px;\n",
              "    }\n",
              "\n",
              "    .colab-df-convert {\n",
              "      background-color: #E8F0FE;\n",
              "      border: none;\n",
              "      border-radius: 50%;\n",
              "      cursor: pointer;\n",
              "      display: none;\n",
              "      fill: #1967D2;\n",
              "      height: 32px;\n",
              "      padding: 0 0 0 0;\n",
              "      width: 32px;\n",
              "    }\n",
              "\n",
              "    .colab-df-convert:hover {\n",
              "      background-color: #E2EBFA;\n",
              "      box-shadow: 0px 1px 2px rgba(60, 64, 67, 0.3), 0px 1px 3px 1px rgba(60, 64, 67, 0.15);\n",
              "      fill: #174EA6;\n",
              "    }\n",
              "\n",
              "    [theme=dark] .colab-df-convert {\n",
              "      background-color: #3B4455;\n",
              "      fill: #D2E3FC;\n",
              "    }\n",
              "\n",
              "    [theme=dark] .colab-df-convert:hover {\n",
              "      background-color: #434B5C;\n",
              "      box-shadow: 0px 1px 3px 1px rgba(0, 0, 0, 0.15);\n",
              "      filter: drop-shadow(0px 1px 2px rgba(0, 0, 0, 0.3));\n",
              "      fill: #FFFFFF;\n",
              "    }\n",
              "  </style>\n",
              "\n",
              "      <script>\n",
              "        const buttonEl =\n",
              "          document.querySelector('#df-dde875d1-d9f7-4583-8b68-92275110287f button.colab-df-convert');\n",
              "        buttonEl.style.display =\n",
              "          google.colab.kernel.accessAllowed ? 'block' : 'none';\n",
              "\n",
              "        async function convertToInteractive(key) {\n",
              "          const element = document.querySelector('#df-dde875d1-d9f7-4583-8b68-92275110287f');\n",
              "          const dataTable =\n",
              "            await google.colab.kernel.invokeFunction('convertToInteractive',\n",
              "                                                     [key], {});\n",
              "          if (!dataTable) return;\n",
              "\n",
              "          const docLinkHtml = 'Like what you see? Visit the ' +\n",
              "            '<a target=\"_blank\" href=https://colab.research.google.com/notebooks/data_table.ipynb>data table notebook</a>'\n",
              "            + ' to learn more about interactive tables.';\n",
              "          element.innerHTML = '';\n",
              "          dataTable['output_type'] = 'display_data';\n",
              "          await google.colab.output.renderOutput(dataTable, element);\n",
              "          const docLink = document.createElement('div');\n",
              "          docLink.innerHTML = docLinkHtml;\n",
              "          element.appendChild(docLink);\n",
              "        }\n",
              "      </script>\n",
              "    </div>\n",
              "  </div>\n",
              "  "
            ],
            "text/plain": [
              "   Kaggle_Pass_Id  ...  orig_seq\n",
              "0               1  ...       690\n",
              "1               2  ...        86\n",
              "2               3  ...       861\n",
              "3               4  ...       128\n",
              "4               5  ...       619\n",
              "\n",
              "[5 rows x 16 columns]"
            ]
          },
          "metadata": {},
          "execution_count": 9
        }
      ],
      "source": [
        "df_train.head()"
      ]
    },
    {
      "cell_type": "code",
      "execution_count": 10,
      "metadata": {
        "colab": {
          "base_uri": "https://localhost:8080/",
          "height": 206
        },
        "id": "gawOtqKbsfcb",
        "outputId": "d1993fdb-ff72-433b-9ae6-31c8a03f83e0"
      },
      "outputs": [
        {
          "output_type": "execute_result",
          "data": {
            "text/html": [
              "\n",
              "  <div id=\"df-48aee08d-9242-4c4d-bbbc-2ef50d884251\">\n",
              "    <div class=\"colab-df-container\">\n",
              "      <div>\n",
              "<style scoped>\n",
              "    .dataframe tbody tr th:only-of-type {\n",
              "        vertical-align: middle;\n",
              "    }\n",
              "\n",
              "    .dataframe tbody tr th {\n",
              "        vertical-align: top;\n",
              "    }\n",
              "\n",
              "    .dataframe thead th {\n",
              "        text-align: right;\n",
              "    }\n",
              "</style>\n",
              "<table border=\"1\" class=\"dataframe\">\n",
              "  <thead>\n",
              "    <tr style=\"text-align: right;\">\n",
              "      <th></th>\n",
              "      <th>Kaggle_Pass_Id</th>\n",
              "      <th>pclass</th>\n",
              "      <th>name</th>\n",
              "      <th>sex</th>\n",
              "      <th>age</th>\n",
              "      <th>sibsp</th>\n",
              "      <th>parch</th>\n",
              "      <th>ticket</th>\n",
              "      <th>fare</th>\n",
              "      <th>cabin</th>\n",
              "      <th>embarked</th>\n",
              "      <th>boat</th>\n",
              "      <th>body</th>\n",
              "      <th>home.dest</th>\n",
              "      <th>orig_seq</th>\n",
              "    </tr>\n",
              "  </thead>\n",
              "  <tbody>\n",
              "    <tr>\n",
              "      <th>0</th>\n",
              "      <td>892</td>\n",
              "      <td>3</td>\n",
              "      <td>Kelly, Mr. James</td>\n",
              "      <td>male</td>\n",
              "      <td>34.5</td>\n",
              "      <td>0</td>\n",
              "      <td>0</td>\n",
              "      <td>330911</td>\n",
              "      <td>7.8292</td>\n",
              "      <td>NaN</td>\n",
              "      <td>Q</td>\n",
              "      <td>NaN</td>\n",
              "      <td>70.0</td>\n",
              "      <td>NaN</td>\n",
              "      <td>925</td>\n",
              "    </tr>\n",
              "    <tr>\n",
              "      <th>1</th>\n",
              "      <td>893</td>\n",
              "      <td>3</td>\n",
              "      <td>Wilkes, Mrs. James (Ellen Needs)</td>\n",
              "      <td>female</td>\n",
              "      <td>47.0</td>\n",
              "      <td>1</td>\n",
              "      <td>0</td>\n",
              "      <td>363272</td>\n",
              "      <td>7.0000</td>\n",
              "      <td>NaN</td>\n",
              "      <td>S</td>\n",
              "      <td>NaN</td>\n",
              "      <td>NaN</td>\n",
              "      <td>NaN</td>\n",
              "      <td>1291</td>\n",
              "    </tr>\n",
              "    <tr>\n",
              "      <th>2</th>\n",
              "      <td>894</td>\n",
              "      <td>2</td>\n",
              "      <td>Myles, Mr. Thomas Francis</td>\n",
              "      <td>male</td>\n",
              "      <td>62.0</td>\n",
              "      <td>0</td>\n",
              "      <td>0</td>\n",
              "      <td>240276</td>\n",
              "      <td>9.6875</td>\n",
              "      <td>NaN</td>\n",
              "      <td>Q</td>\n",
              "      <td>NaN</td>\n",
              "      <td>NaN</td>\n",
              "      <td>Cambridge, MA</td>\n",
              "      <td>512</td>\n",
              "    </tr>\n",
              "    <tr>\n",
              "      <th>3</th>\n",
              "      <td>895</td>\n",
              "      <td>3</td>\n",
              "      <td>Wirz, Mr. Albert</td>\n",
              "      <td>male</td>\n",
              "      <td>27.0</td>\n",
              "      <td>0</td>\n",
              "      <td>0</td>\n",
              "      <td>315154</td>\n",
              "      <td>8.6625</td>\n",
              "      <td>NaN</td>\n",
              "      <td>S</td>\n",
              "      <td>NaN</td>\n",
              "      <td>131.0</td>\n",
              "      <td>NaN</td>\n",
              "      <td>1297</td>\n",
              "    </tr>\n",
              "    <tr>\n",
              "      <th>4</th>\n",
              "      <td>896</td>\n",
              "      <td>3</td>\n",
              "      <td>Hirvonen, Mrs. Alexander (Helga E Lindqvist)</td>\n",
              "      <td>female</td>\n",
              "      <td>22.0</td>\n",
              "      <td>1</td>\n",
              "      <td>1</td>\n",
              "      <td>3101298</td>\n",
              "      <td>12.2875</td>\n",
              "      <td>NaN</td>\n",
              "      <td>S</td>\n",
              "      <td>15</td>\n",
              "      <td>NaN</td>\n",
              "      <td>NaN</td>\n",
              "      <td>868</td>\n",
              "    </tr>\n",
              "  </tbody>\n",
              "</table>\n",
              "</div>\n",
              "      <button class=\"colab-df-convert\" onclick=\"convertToInteractive('df-48aee08d-9242-4c4d-bbbc-2ef50d884251')\"\n",
              "              title=\"Convert this dataframe to an interactive table.\"\n",
              "              style=\"display:none;\">\n",
              "        \n",
              "  <svg xmlns=\"http://www.w3.org/2000/svg\" height=\"24px\"viewBox=\"0 0 24 24\"\n",
              "       width=\"24px\">\n",
              "    <path d=\"M0 0h24v24H0V0z\" fill=\"none\"/>\n",
              "    <path d=\"M18.56 5.44l.94 2.06.94-2.06 2.06-.94-2.06-.94-.94-2.06-.94 2.06-2.06.94zm-11 1L8.5 8.5l.94-2.06 2.06-.94-2.06-.94L8.5 2.5l-.94 2.06-2.06.94zm10 10l.94 2.06.94-2.06 2.06-.94-2.06-.94-.94-2.06-.94 2.06-2.06.94z\"/><path d=\"M17.41 7.96l-1.37-1.37c-.4-.4-.92-.59-1.43-.59-.52 0-1.04.2-1.43.59L10.3 9.45l-7.72 7.72c-.78.78-.78 2.05 0 2.83L4 21.41c.39.39.9.59 1.41.59.51 0 1.02-.2 1.41-.59l7.78-7.78 2.81-2.81c.8-.78.8-2.07 0-2.86zM5.41 20L4 18.59l7.72-7.72 1.47 1.35L5.41 20z\"/>\n",
              "  </svg>\n",
              "      </button>\n",
              "      \n",
              "  <style>\n",
              "    .colab-df-container {\n",
              "      display:flex;\n",
              "      flex-wrap:wrap;\n",
              "      gap: 12px;\n",
              "    }\n",
              "\n",
              "    .colab-df-convert {\n",
              "      background-color: #E8F0FE;\n",
              "      border: none;\n",
              "      border-radius: 50%;\n",
              "      cursor: pointer;\n",
              "      display: none;\n",
              "      fill: #1967D2;\n",
              "      height: 32px;\n",
              "      padding: 0 0 0 0;\n",
              "      width: 32px;\n",
              "    }\n",
              "\n",
              "    .colab-df-convert:hover {\n",
              "      background-color: #E2EBFA;\n",
              "      box-shadow: 0px 1px 2px rgba(60, 64, 67, 0.3), 0px 1px 3px 1px rgba(60, 64, 67, 0.15);\n",
              "      fill: #174EA6;\n",
              "    }\n",
              "\n",
              "    [theme=dark] .colab-df-convert {\n",
              "      background-color: #3B4455;\n",
              "      fill: #D2E3FC;\n",
              "    }\n",
              "\n",
              "    [theme=dark] .colab-df-convert:hover {\n",
              "      background-color: #434B5C;\n",
              "      box-shadow: 0px 1px 3px 1px rgba(0, 0, 0, 0.15);\n",
              "      filter: drop-shadow(0px 1px 2px rgba(0, 0, 0, 0.3));\n",
              "      fill: #FFFFFF;\n",
              "    }\n",
              "  </style>\n",
              "\n",
              "      <script>\n",
              "        const buttonEl =\n",
              "          document.querySelector('#df-48aee08d-9242-4c4d-bbbc-2ef50d884251 button.colab-df-convert');\n",
              "        buttonEl.style.display =\n",
              "          google.colab.kernel.accessAllowed ? 'block' : 'none';\n",
              "\n",
              "        async function convertToInteractive(key) {\n",
              "          const element = document.querySelector('#df-48aee08d-9242-4c4d-bbbc-2ef50d884251');\n",
              "          const dataTable =\n",
              "            await google.colab.kernel.invokeFunction('convertToInteractive',\n",
              "                                                     [key], {});\n",
              "          if (!dataTable) return;\n",
              "\n",
              "          const docLinkHtml = 'Like what you see? Visit the ' +\n",
              "            '<a target=\"_blank\" href=https://colab.research.google.com/notebooks/data_table.ipynb>data table notebook</a>'\n",
              "            + ' to learn more about interactive tables.';\n",
              "          element.innerHTML = '';\n",
              "          dataTable['output_type'] = 'display_data';\n",
              "          await google.colab.output.renderOutput(dataTable, element);\n",
              "          const docLink = document.createElement('div');\n",
              "          docLink.innerHTML = docLinkHtml;\n",
              "          element.appendChild(docLink);\n",
              "        }\n",
              "      </script>\n",
              "    </div>\n",
              "  </div>\n",
              "  "
            ],
            "text/plain": [
              "   Kaggle_Pass_Id  pclass  ...      home.dest orig_seq\n",
              "0             892       3  ...            NaN      925\n",
              "1             893       3  ...            NaN     1291\n",
              "2             894       2  ...  Cambridge, MA      512\n",
              "3             895       3  ...            NaN     1297\n",
              "4             896       3  ...            NaN      868\n",
              "\n",
              "[5 rows x 15 columns]"
            ]
          },
          "metadata": {},
          "execution_count": 10
        }
      ],
      "source": [
        "df_test.head()"
      ]
    },
    {
      "cell_type": "code",
      "execution_count": 11,
      "metadata": {
        "colab": {
          "base_uri": "https://localhost:8080/"
        },
        "id": "E2zy_NneeQEi",
        "outputId": "33f7e064-85a3-4c4d-cfad-ebd91fa724b6"
      },
      "outputs": [
        {
          "output_type": "stream",
          "name": "stdout",
          "text": [
            "We have 891 rows and 16 columns in the train dataset.\n",
            "We have 418 rows and 15 columns in the test dataset.\n"
          ]
        }
      ],
      "source": [
        "print(f'We have {df_train.shape[0]} rows and {df_train.shape[1]} columns in the train dataset.')\n",
        "print(f'We have {df_test.shape[0]} rows and {df_test.shape[1]} columns in the test dataset.')"
      ]
    },
    {
      "cell_type": "markdown",
      "metadata": {
        "id": "Kssc2h3jfPPe"
      },
      "source": [
        "We can see that in the `test` dataset we have one less column than in the `train` dataset. The column missing is the `survived` columns, because it is what we have to predict. But, in my opinion, this column should be provided for us to compare our results with the real prediction."
      ]
    },
    {
      "cell_type": "markdown",
      "metadata": {
        "id": "x75fiz6ucEUH"
      },
      "source": [
        "What is the data type of the columns?"
      ]
    },
    {
      "cell_type": "code",
      "execution_count": 12,
      "metadata": {
        "colab": {
          "base_uri": "https://localhost:8080/"
        },
        "id": "72doCWX4cDuZ",
        "outputId": "5aa19798-8f9f-4cd8-fc6c-5348b48a6600"
      },
      "outputs": [
        {
          "output_type": "stream",
          "name": "stdout",
          "text": [
            "<class 'pandas.core.frame.DataFrame'>\n",
            "RangeIndex: 891 entries, 0 to 890\n",
            "Data columns (total 16 columns):\n",
            " #   Column          Non-Null Count  Dtype  \n",
            "---  ------          --------------  -----  \n",
            " 0   Kaggle_Pass_Id  891 non-null    int64  \n",
            " 1   pclass          891 non-null    int64  \n",
            " 2   survived        891 non-null    int64  \n",
            " 3   name            891 non-null    object \n",
            " 4   sex             891 non-null    object \n",
            " 5   age             714 non-null    float64\n",
            " 6   sibsp           891 non-null    int64  \n",
            " 7   parch           891 non-null    int64  \n",
            " 8   ticket          891 non-null    object \n",
            " 9   fare            891 non-null    float64\n",
            " 10  cabin           204 non-null    object \n",
            " 11  embarked        889 non-null    object \n",
            " 12  boat            330 non-null    object \n",
            " 13  body            83 non-null     float64\n",
            " 14  home.dest       499 non-null    object \n",
            " 15  orig_seq        891 non-null    int64  \n",
            "dtypes: float64(3), int64(6), object(7)\n",
            "memory usage: 111.5+ KB\n"
          ]
        }
      ],
      "source": [
        "df_train.info()"
      ]
    },
    {
      "cell_type": "markdown",
      "metadata": {
        "id": "PtWoH1dyb4NC"
      },
      "source": [
        "What about missing values in the data?"
      ]
    },
    {
      "cell_type": "code",
      "execution_count": 13,
      "metadata": {
        "colab": {
          "base_uri": "https://localhost:8080/"
        },
        "id": "FKVizzZPcBM5",
        "outputId": "80c24bff-c549-413b-def1-19e319765d98"
      },
      "outputs": [
        {
          "output_type": "execute_result",
          "data": {
            "text/plain": [
              "Kaggle_Pass_Id      0\n",
              "pclass              0\n",
              "survived            0\n",
              "name                0\n",
              "sex                 0\n",
              "age               177\n",
              "sibsp               0\n",
              "parch               0\n",
              "ticket              0\n",
              "fare                0\n",
              "cabin             687\n",
              "embarked            2\n",
              "boat              561\n",
              "body              808\n",
              "home.dest         392\n",
              "orig_seq            0\n",
              "dtype: int64"
            ]
          },
          "metadata": {},
          "execution_count": 13
        }
      ],
      "source": [
        "df_train.isna().sum()"
      ]
    },
    {
      "cell_type": "markdown",
      "metadata": {
        "id": "oIyYv5QMcWPL"
      },
      "source": [
        "From this we can see that a lot of columns have missing data. What should we do about them?\n",
        "\n",
        "Here, the only variable we can treat the null values is the `age` columns. The other columns have the majority of data as null values, so we'll drop these columns."
      ]
    },
    {
      "cell_type": "code",
      "execution_count": 14,
      "metadata": {
        "id": "2g5nbLnHgIM5"
      },
      "outputs": [],
      "source": [
        "df_train = df_train.drop(['cabin', 'boat', 'body', 'home.dest'], axis = 1)"
      ]
    },
    {
      "cell_type": "code",
      "execution_count": 15,
      "metadata": {
        "colab": {
          "base_uri": "https://localhost:8080/"
        },
        "id": "CSmdIC6yyY42",
        "outputId": "0d4a6c58-3d8f-4650-cbed-8bb91b4ccafc"
      },
      "outputs": [
        {
          "output_type": "execute_result",
          "data": {
            "text/plain": [
              "Kaggle_Pass_Id      0\n",
              "pclass              0\n",
              "survived            0\n",
              "name                0\n",
              "sex                 0\n",
              "age               177\n",
              "sibsp               0\n",
              "parch               0\n",
              "ticket              0\n",
              "fare                0\n",
              "embarked            2\n",
              "orig_seq            0\n",
              "dtype: int64"
            ]
          },
          "metadata": {},
          "execution_count": 15
        }
      ],
      "source": [
        "df_train.isna().sum()"
      ]
    },
    {
      "cell_type": "markdown",
      "metadata": {
        "id": "MihsX6YCyddX"
      },
      "source": [
        "We still have 2 missing values in the column `embarked`. Since this is a small number, we can change the null values to the most common one."
      ]
    },
    {
      "cell_type": "code",
      "execution_count": 16,
      "metadata": {
        "colab": {
          "base_uri": "https://localhost:8080/"
        },
        "id": "Aj03UBiFyjyU",
        "outputId": "05b526e2-1978-4354-84c9-b0eb14f15664"
      },
      "outputs": [
        {
          "output_type": "execute_result",
          "data": {
            "text/plain": [
              "S    644\n",
              "C    168\n",
              "Q     77\n",
              "Name: embarked, dtype: int64"
            ]
          },
          "metadata": {},
          "execution_count": 16
        }
      ],
      "source": [
        "df_train.embarked.value_counts()"
      ]
    },
    {
      "cell_type": "code",
      "execution_count": 17,
      "metadata": {
        "colab": {
          "base_uri": "https://localhost:8080/"
        },
        "id": "w61ua-W40RpP",
        "outputId": "c0a83142-db6d-4056-d5f9-356eb6c50536"
      },
      "outputs": [
        {
          "output_type": "stream",
          "name": "stderr",
          "text": [
            "/usr/local/lib/python3.7/dist-packages/ipykernel_launcher.py:1: SettingWithCopyWarning: \n",
            "A value is trying to be set on a copy of a slice from a DataFrame\n",
            "\n",
            "See the caveats in the documentation: https://pandas.pydata.org/pandas-docs/stable/user_guide/indexing.html#returning-a-view-versus-a-copy\n",
            "  \"\"\"Entry point for launching an IPython kernel.\n"
          ]
        }
      ],
      "source": [
        "df_train.embarked[df_train.embarked.isna()] = 'S'"
      ]
    },
    {
      "cell_type": "code",
      "execution_count": 18,
      "metadata": {
        "colab": {
          "base_uri": "https://localhost:8080/"
        },
        "id": "_3bSET1E0bg7",
        "outputId": "f256cdd2-7aee-4320-ba20-d110d5fb5f08"
      },
      "outputs": [
        {
          "output_type": "execute_result",
          "data": {
            "text/plain": [
              "Kaggle_Pass_Id      0\n",
              "pclass              0\n",
              "survived            0\n",
              "name                0\n",
              "sex                 0\n",
              "age               177\n",
              "sibsp               0\n",
              "parch               0\n",
              "ticket              0\n",
              "fare                0\n",
              "embarked            0\n",
              "orig_seq            0\n",
              "dtype: int64"
            ]
          },
          "metadata": {},
          "execution_count": 18
        }
      ],
      "source": [
        "df_train.isna().sum()"
      ]
    },
    {
      "cell_type": "markdown",
      "metadata": {
        "id": "1NT4FihD0fXJ"
      },
      "source": [
        "Now, for the `age` column, we'll substitute the missing values with the mean."
      ]
    },
    {
      "cell_type": "code",
      "execution_count": 19,
      "metadata": {
        "id": "pLddjYq50kSO"
      },
      "outputs": [],
      "source": [
        "df_train.age = df_train.age.fillna(df_train.age.mean())"
      ]
    },
    {
      "cell_type": "code",
      "execution_count": 20,
      "metadata": {
        "colab": {
          "base_uri": "https://localhost:8080/"
        },
        "id": "gx9mAas50xwC",
        "outputId": "9bf47f3b-93ef-49d9-f567-dd1d72613bb4"
      },
      "outputs": [
        {
          "output_type": "execute_result",
          "data": {
            "text/plain": [
              "Kaggle_Pass_Id    0\n",
              "pclass            0\n",
              "survived          0\n",
              "name              0\n",
              "sex               0\n",
              "age               0\n",
              "sibsp             0\n",
              "parch             0\n",
              "ticket            0\n",
              "fare              0\n",
              "embarked          0\n",
              "orig_seq          0\n",
              "dtype: int64"
            ]
          },
          "metadata": {},
          "execution_count": 20
        }
      ],
      "source": [
        "df_train.isna().sum()"
      ]
    },
    {
      "cell_type": "markdown",
      "metadata": {
        "id": "ZLb-zUNagIlH"
      },
      "source": [
        "Let's check the statistical part of the data, but first, let's change the values in the `sex` columns such as:\n",
        "\n",
        "- **female**: 0\n",
        "- **male**: 1"
      ]
    },
    {
      "cell_type": "code",
      "execution_count": 21,
      "metadata": {
        "id": "kWSLN4xaiqrW"
      },
      "outputs": [],
      "source": [
        "df_train.sex = df_train.sex.map({'female': '0', 'male': '1'}).astype(float)"
      ]
    },
    {
      "cell_type": "code",
      "execution_count": 22,
      "metadata": {
        "colab": {
          "base_uri": "https://localhost:8080/",
          "height": 300
        },
        "id": "1Oh3odNmgJKz",
        "outputId": "14d2c81a-2a8d-4ff2-8f61-53f3ba660f0a"
      },
      "outputs": [
        {
          "output_type": "execute_result",
          "data": {
            "text/html": [
              "\n",
              "  <div id=\"df-40099fc6-5f57-4b87-95a3-0bd88932f4dc\">\n",
              "    <div class=\"colab-df-container\">\n",
              "      <div>\n",
              "<style scoped>\n",
              "    .dataframe tbody tr th:only-of-type {\n",
              "        vertical-align: middle;\n",
              "    }\n",
              "\n",
              "    .dataframe tbody tr th {\n",
              "        vertical-align: top;\n",
              "    }\n",
              "\n",
              "    .dataframe thead th {\n",
              "        text-align: right;\n",
              "    }\n",
              "</style>\n",
              "<table border=\"1\" class=\"dataframe\">\n",
              "  <thead>\n",
              "    <tr style=\"text-align: right;\">\n",
              "      <th></th>\n",
              "      <th>Kaggle_Pass_Id</th>\n",
              "      <th>pclass</th>\n",
              "      <th>survived</th>\n",
              "      <th>sex</th>\n",
              "      <th>age</th>\n",
              "      <th>sibsp</th>\n",
              "      <th>parch</th>\n",
              "      <th>fare</th>\n",
              "      <th>orig_seq</th>\n",
              "    </tr>\n",
              "  </thead>\n",
              "  <tbody>\n",
              "    <tr>\n",
              "      <th>count</th>\n",
              "      <td>891.000000</td>\n",
              "      <td>891.000000</td>\n",
              "      <td>891.000000</td>\n",
              "      <td>891.000000</td>\n",
              "      <td>891.000000</td>\n",
              "      <td>891.000000</td>\n",
              "      <td>891.000000</td>\n",
              "      <td>891.000000</td>\n",
              "      <td>891.000000</td>\n",
              "    </tr>\n",
              "    <tr>\n",
              "      <th>mean</th>\n",
              "      <td>446.000000</td>\n",
              "      <td>2.308642</td>\n",
              "      <td>0.383838</td>\n",
              "      <td>0.647587</td>\n",
              "      <td>29.699113</td>\n",
              "      <td>0.523008</td>\n",
              "      <td>0.381594</td>\n",
              "      <td>32.204208</td>\n",
              "      <td>662.304153</td>\n",
              "    </tr>\n",
              "    <tr>\n",
              "      <th>std</th>\n",
              "      <td>257.353842</td>\n",
              "      <td>0.836071</td>\n",
              "      <td>0.486592</td>\n",
              "      <td>0.477990</td>\n",
              "      <td>13.002024</td>\n",
              "      <td>1.102743</td>\n",
              "      <td>0.806057</td>\n",
              "      <td>49.693429</td>\n",
              "      <td>378.282967</td>\n",
              "    </tr>\n",
              "    <tr>\n",
              "      <th>min</th>\n",
              "      <td>1.000000</td>\n",
              "      <td>1.000000</td>\n",
              "      <td>0.000000</td>\n",
              "      <td>0.000000</td>\n",
              "      <td>0.416700</td>\n",
              "      <td>0.000000</td>\n",
              "      <td>0.000000</td>\n",
              "      <td>0.000000</td>\n",
              "      <td>1.000000</td>\n",
              "    </tr>\n",
              "    <tr>\n",
              "      <th>25%</th>\n",
              "      <td>223.500000</td>\n",
              "      <td>2.000000</td>\n",
              "      <td>0.000000</td>\n",
              "      <td>0.000000</td>\n",
              "      <td>22.000000</td>\n",
              "      <td>0.000000</td>\n",
              "      <td>0.000000</td>\n",
              "      <td>7.910400</td>\n",
              "      <td>335.500000</td>\n",
              "    </tr>\n",
              "    <tr>\n",
              "      <th>50%</th>\n",
              "      <td>446.000000</td>\n",
              "      <td>3.000000</td>\n",
              "      <td>0.000000</td>\n",
              "      <td>1.000000</td>\n",
              "      <td>29.699113</td>\n",
              "      <td>0.000000</td>\n",
              "      <td>0.000000</td>\n",
              "      <td>14.454200</td>\n",
              "      <td>666.000000</td>\n",
              "    </tr>\n",
              "    <tr>\n",
              "      <th>75%</th>\n",
              "      <td>668.500000</td>\n",
              "      <td>3.000000</td>\n",
              "      <td>1.000000</td>\n",
              "      <td>1.000000</td>\n",
              "      <td>35.000000</td>\n",
              "      <td>1.000000</td>\n",
              "      <td>0.000000</td>\n",
              "      <td>31.000000</td>\n",
              "      <td>993.500000</td>\n",
              "    </tr>\n",
              "    <tr>\n",
              "      <th>max</th>\n",
              "      <td>891.000000</td>\n",
              "      <td>3.000000</td>\n",
              "      <td>1.000000</td>\n",
              "      <td>1.000000</td>\n",
              "      <td>80.000000</td>\n",
              "      <td>8.000000</td>\n",
              "      <td>6.000000</td>\n",
              "      <td>512.329200</td>\n",
              "      <td>1309.000000</td>\n",
              "    </tr>\n",
              "  </tbody>\n",
              "</table>\n",
              "</div>\n",
              "      <button class=\"colab-df-convert\" onclick=\"convertToInteractive('df-40099fc6-5f57-4b87-95a3-0bd88932f4dc')\"\n",
              "              title=\"Convert this dataframe to an interactive table.\"\n",
              "              style=\"display:none;\">\n",
              "        \n",
              "  <svg xmlns=\"http://www.w3.org/2000/svg\" height=\"24px\"viewBox=\"0 0 24 24\"\n",
              "       width=\"24px\">\n",
              "    <path d=\"M0 0h24v24H0V0z\" fill=\"none\"/>\n",
              "    <path d=\"M18.56 5.44l.94 2.06.94-2.06 2.06-.94-2.06-.94-.94-2.06-.94 2.06-2.06.94zm-11 1L8.5 8.5l.94-2.06 2.06-.94-2.06-.94L8.5 2.5l-.94 2.06-2.06.94zm10 10l.94 2.06.94-2.06 2.06-.94-2.06-.94-.94-2.06-.94 2.06-2.06.94z\"/><path d=\"M17.41 7.96l-1.37-1.37c-.4-.4-.92-.59-1.43-.59-.52 0-1.04.2-1.43.59L10.3 9.45l-7.72 7.72c-.78.78-.78 2.05 0 2.83L4 21.41c.39.39.9.59 1.41.59.51 0 1.02-.2 1.41-.59l7.78-7.78 2.81-2.81c.8-.78.8-2.07 0-2.86zM5.41 20L4 18.59l7.72-7.72 1.47 1.35L5.41 20z\"/>\n",
              "  </svg>\n",
              "      </button>\n",
              "      \n",
              "  <style>\n",
              "    .colab-df-container {\n",
              "      display:flex;\n",
              "      flex-wrap:wrap;\n",
              "      gap: 12px;\n",
              "    }\n",
              "\n",
              "    .colab-df-convert {\n",
              "      background-color: #E8F0FE;\n",
              "      border: none;\n",
              "      border-radius: 50%;\n",
              "      cursor: pointer;\n",
              "      display: none;\n",
              "      fill: #1967D2;\n",
              "      height: 32px;\n",
              "      padding: 0 0 0 0;\n",
              "      width: 32px;\n",
              "    }\n",
              "\n",
              "    .colab-df-convert:hover {\n",
              "      background-color: #E2EBFA;\n",
              "      box-shadow: 0px 1px 2px rgba(60, 64, 67, 0.3), 0px 1px 3px 1px rgba(60, 64, 67, 0.15);\n",
              "      fill: #174EA6;\n",
              "    }\n",
              "\n",
              "    [theme=dark] .colab-df-convert {\n",
              "      background-color: #3B4455;\n",
              "      fill: #D2E3FC;\n",
              "    }\n",
              "\n",
              "    [theme=dark] .colab-df-convert:hover {\n",
              "      background-color: #434B5C;\n",
              "      box-shadow: 0px 1px 3px 1px rgba(0, 0, 0, 0.15);\n",
              "      filter: drop-shadow(0px 1px 2px rgba(0, 0, 0, 0.3));\n",
              "      fill: #FFFFFF;\n",
              "    }\n",
              "  </style>\n",
              "\n",
              "      <script>\n",
              "        const buttonEl =\n",
              "          document.querySelector('#df-40099fc6-5f57-4b87-95a3-0bd88932f4dc button.colab-df-convert');\n",
              "        buttonEl.style.display =\n",
              "          google.colab.kernel.accessAllowed ? 'block' : 'none';\n",
              "\n",
              "        async function convertToInteractive(key) {\n",
              "          const element = document.querySelector('#df-40099fc6-5f57-4b87-95a3-0bd88932f4dc');\n",
              "          const dataTable =\n",
              "            await google.colab.kernel.invokeFunction('convertToInteractive',\n",
              "                                                     [key], {});\n",
              "          if (!dataTable) return;\n",
              "\n",
              "          const docLinkHtml = 'Like what you see? Visit the ' +\n",
              "            '<a target=\"_blank\" href=https://colab.research.google.com/notebooks/data_table.ipynb>data table notebook</a>'\n",
              "            + ' to learn more about interactive tables.';\n",
              "          element.innerHTML = '';\n",
              "          dataTable['output_type'] = 'display_data';\n",
              "          await google.colab.output.renderOutput(dataTable, element);\n",
              "          const docLink = document.createElement('div');\n",
              "          docLink.innerHTML = docLinkHtml;\n",
              "          element.appendChild(docLink);\n",
              "        }\n",
              "      </script>\n",
              "    </div>\n",
              "  </div>\n",
              "  "
            ],
            "text/plain": [
              "       Kaggle_Pass_Id      pclass  ...        fare     orig_seq\n",
              "count      891.000000  891.000000  ...  891.000000   891.000000\n",
              "mean       446.000000    2.308642  ...   32.204208   662.304153\n",
              "std        257.353842    0.836071  ...   49.693429   378.282967\n",
              "min          1.000000    1.000000  ...    0.000000     1.000000\n",
              "25%        223.500000    2.000000  ...    7.910400   335.500000\n",
              "50%        446.000000    3.000000  ...   14.454200   666.000000\n",
              "75%        668.500000    3.000000  ...   31.000000   993.500000\n",
              "max        891.000000    3.000000  ...  512.329200  1309.000000\n",
              "\n",
              "[8 rows x 9 columns]"
            ]
          },
          "metadata": {},
          "execution_count": 22
        }
      ],
      "source": [
        "df_train.describe()"
      ]
    },
    {
      "cell_type": "code",
      "execution_count": 23,
      "metadata": {
        "colab": {
          "base_uri": "https://localhost:8080/",
          "height": 512
        },
        "id": "xr36gTX7g_Tw",
        "outputId": "5efb6993-adab-4548-b61c-11bb1ab22419"
      },
      "outputs": [
        {
          "output_type": "display_data",
          "data": {
            "image/png": "[encoded data removed]",
            "text/plain": [
              "<Figure size 864x576 with 2 Axes>"
            ]
          },
          "metadata": {
            "needs_background": "light"
          }
        }
      ],
      "source": [
        "plt.figure(figsize = (12, 8))\n",
        "sns.heatmap(df_train.corr(), cmap = \"BuPu\", annot = True)\n",
        "plt.xticks(fontsize = 14)\n",
        "plt.yticks(fontsize = 14)\n",
        "plt.title('How is the data correlated to each other?', fontdict = {'fontsize': 25}, loc = 'left')\n",
        "sns.despine()\n",
        "plt.show()"
      ]
    },
    {
      "cell_type": "markdown",
      "metadata": {
        "id": "esmec6wPjtFe"
      },
      "source": [
        "From the above heatmap we see that the variables that most influence the `survived` target are:\n",
        "\n",
        "- sex\n",
        "- pclass\n",
        "- fare\n",
        "- orig_seq\n",
        "\n",
        "Does this make sense from our point of view?\n",
        "\n",
        "Yes! It is well-known that when the Titanic was sinking the first people saved were \"women and children first\". So it makes sense that most women survived instead of men. It is also surprising that age dosn't have that high of a correlation with the survived target.\n",
        "\n",
        "Also, `pclass`, `fare` and `orig_seq` have high correlation with the survived class because they are variables related to the socio-economic class of a person, and people in higher classes were saved first."
      ]
    },
    {
      "cell_type": "markdown",
      "source": [
        "## 3.1 Variables Check\n",
        "\n",
        "Now let's check visually for the distribution of variables."
      ],
      "metadata": {
        "id": "2GgGjKFmn0Fd"
      }
    },
    {
      "cell_type": "code",
      "source": [
        "df_train.pclass.value_counts().plot(kind = 'bar', figsize = (10, 6), color = 'seagreen')\n",
        "plt.title('Ticket Class (pclass)', fontsize = 22)\n",
        "plt.xticks(rotation = 0, fontsize = 15)\n",
        "plt.yticks(fontsize = 15)\n",
        "plt.xlabel('Class', fontsize = 20)\n",
        "plt.ylabel('Count', fontsize = 18)\n",
        "sns.despine()\n",
        "plt.show()"
      ],
      "metadata": {
        "colab": {
          "base_uri": "https://localhost:8080/",
          "height": 424
        },
        "id": "t5tLQ2HZnEFb",
        "outputId": "bf5bdf5d-00a3-4309-b5b7-dfdb12309eb7"
      },
      "execution_count": 24,
      "outputs": [
        {
          "output_type": "display_data",
          "data": {
            "image/png": "[encoded data removed]",
            "text/plain": [
              "<Figure size 720x432 with 1 Axes>"
            ]
          },
          "metadata": {
            "needs_background": "light"
          }
        }
      ]
    },
    {
      "cell_type": "markdown",
      "source": [
        "More people were in the 3rd class."
      ],
      "metadata": {
        "id": "hwwYOJlBpZhI"
      }
    },
    {
      "cell_type": "code",
      "source": [
        "df_train.survived.value_counts().plot(kind = 'bar', figsize = (10, 6), color = 'seagreen')\n",
        "plt.title('How many survived?', fontsize = 22)\n",
        "plt.xticks(rotation = 0, fontsize = 15)\n",
        "plt.yticks(fontsize = 15)\n",
        "plt.xlabel('Survived', fontsize = 20)\n",
        "plt.ylabel('Count', fontsize = 18)\n",
        "sns.despine()\n",
        "plt.show()"
      ],
      "metadata": {
        "colab": {
          "base_uri": "https://localhost:8080/",
          "height": 424
        },
        "id": "Ro6Z2AzhnznA",
        "outputId": "7645bedb-d18f-4e60-a6ec-b962dade91d9"
      },
      "execution_count": 25,
      "outputs": [
        {
          "output_type": "display_data",
          "data": {
            "image/png": "[encoded data removed]",
            "text/plain": [
              "<Figure size 720x432 with 1 Axes>"
            ]
          },
          "metadata": {
            "needs_background": "light"
          }
        }
      ]
    },
    {
      "cell_type": "markdown",
      "source": [
        "More people died than survived."
      ],
      "metadata": {
        "id": "MT8g3eznpewK"
      }
    },
    {
      "cell_type": "code",
      "source": [
        "df_train.sex.value_counts().plot(kind = 'bar', figsize = (10, 6), color = 'seagreen')\n",
        "plt.title('Gender Distribution', fontsize = 22)\n",
        "plt.xticks(rotation = 0, fontsize = 15)\n",
        "plt.yticks(fontsize = 15)\n",
        "plt.xlabel('Gender', fontsize = 20)\n",
        "plt.ylabel('Count', fontsize = 18)\n",
        "sns.despine()\n",
        "plt.show()"
      ],
      "metadata": {
        "colab": {
          "base_uri": "https://localhost:8080/",
          "height": 424
        },
        "id": "gE1Dhw7VogG1",
        "outputId": "17993d7b-1eb0-4ddf-94c5-16a34fe86805"
      },
      "execution_count": 26,
      "outputs": [
        {
          "output_type": "display_data",
          "data": {
            "image/png": "[encoded data removed]",
            "text/plain": [
              "<Figure size 720x432 with 1 Axes>"
            ]
          },
          "metadata": {
            "needs_background": "light"
          }
        }
      ]
    },
    {
      "cell_type": "markdown",
      "source": [
        "More men than women in the Titanic."
      ],
      "metadata": {
        "id": "R78vn1O0pivU"
      }
    },
    {
      "cell_type": "code",
      "source": [
        "plt.figure(figsize = (12, 5))\n",
        "plt.title(\"Age Distribution\", fontdict = {'fontsize': 24})\n",
        "sns.set_style(\"white\")\n",
        "ax = sns.histplot(df_train.age, kde = True, color = 'seagreen')\n",
        "plt.xticks(fontsize = 14)\n",
        "plt.yticks(fontsize = 14)\n",
        "plt.xlabel('Age', fontsize = 15)\n",
        "plt.ylabel('Count', fontsize = 15)\n",
        "sns.despine()\n",
        "plt.show()"
      ],
      "metadata": {
        "colab": {
          "base_uri": "https://localhost:8080/",
          "height": 368
        },
        "id": "0vmVlBrcpDwx",
        "outputId": "5127ce8b-72bc-4be4-a435-66501489d3a8"
      },
      "execution_count": 27,
      "outputs": [
        {
          "output_type": "display_data",
          "data": {
            "image/png": "[encoded data removed]",
            "text/plain": [
              "<Figure size 864x360 with 1 Axes>"
            ]
          },
          "metadata": {
            "needs_background": "light"
          }
        }
      ]
    },
    {
      "cell_type": "markdown",
      "source": [
        "The majority of people were about 30 years of age."
      ],
      "metadata": {
        "id": "29yqvJu-pl88"
      }
    },
    {
      "cell_type": "markdown",
      "metadata": {
        "id": "2qbAli8-tCZR"
      },
      "source": [
        "# 4 Data Preparation\n",
        "\n",
        "From the above analysis we can see that some variables are more relavant than other in the prediction of the survived target. So let's take the other variables out of the dataframe. Let's fill the missing values as well, as we did above."
      ]
    },
    {
      "cell_type": "code",
      "execution_count": 28,
      "metadata": {
        "id": "GjU_fTLduAhT"
      },
      "outputs": [],
      "source": [
        "def data_preprocessing(df):\n",
        "    selected_columns = ['pclass', 'sex', 'fare']\n",
        "    df.sex = df.sex.map({'female': '0', 'male': '1'}).astype(float)\n",
        "    return df[selected_columns]"
      ]
    },
    {
      "cell_type": "code",
      "source": [
        "X_train = data_preprocessing(df_train_raw)\n",
        "y_train = df_train.survived\n",
        "\n",
        "X_test = data_preprocessing(df_test_raw)"
      ],
      "metadata": {
        "id": "0VywNrNcK3At"
      },
      "execution_count": 29,
      "outputs": []
    },
    {
      "cell_type": "code",
      "source": [
        "X_train.isna().sum()"
      ],
      "metadata": {
        "colab": {
          "base_uri": "https://localhost:8080/"
        },
        "id": "qgUb7QnSf7EG",
        "outputId": "af2b65f3-cc83-425e-de78-a1cdbb9675c4"
      },
      "execution_count": 30,
      "outputs": [
        {
          "output_type": "execute_result",
          "data": {
            "text/plain": [
              "pclass    0\n",
              "sex       0\n",
              "fare      0\n",
              "dtype: int64"
            ]
          },
          "metadata": {},
          "execution_count": 30
        }
      ]
    },
    {
      "cell_type": "code",
      "source": [
        "X_test.isna().sum()"
      ],
      "metadata": {
        "colab": {
          "base_uri": "https://localhost:8080/"
        },
        "id": "WSk2JIVdLqMW",
        "outputId": "cc306618-f581-4d9f-f1c1-568afbdcfff7"
      },
      "execution_count": 31,
      "outputs": [
        {
          "output_type": "execute_result",
          "data": {
            "text/plain": [
              "pclass    0\n",
              "sex       0\n",
              "fare      1\n",
              "dtype: int64"
            ]
          },
          "metadata": {},
          "execution_count": 31
        }
      ]
    },
    {
      "cell_type": "code",
      "source": [
        "X_test.fare = X_test.fare.fillna(X_test.fare.mean())"
      ],
      "metadata": {
        "colab": {
          "base_uri": "https://localhost:8080/"
        },
        "id": "8Ry0TuMLLwqC",
        "outputId": "997e8a77-35d1-4cc4-e385-7b70b949ac34"
      },
      "execution_count": 32,
      "outputs": [
        {
          "output_type": "stream",
          "name": "stderr",
          "text": [
            "/usr/local/lib/python3.7/dist-packages/pandas/core/generic.py:5170: SettingWithCopyWarning: \n",
            "A value is trying to be set on a copy of a slice from a DataFrame.\n",
            "Try using .loc[row_indexer,col_indexer] = value instead\n",
            "\n",
            "See the caveats in the documentation: https://pandas.pydata.org/pandas-docs/stable/user_guide/indexing.html#returning-a-view-versus-a-copy\n",
            "  self[name] = value\n"
          ]
        }
      ]
    },
    {
      "cell_type": "markdown",
      "source": [
        "# 5 Modelling"
      ],
      "metadata": {
        "id": "Cq1YgXnPLliW"
      }
    },
    {
      "cell_type": "markdown",
      "source": [
        "For this part, we'll be using one of the most famous and used model: the Random Forest Classifier. Most of the time, its results are good enough for what we want to do. The won't be any hyperparameter tuning.\n",
        "\n",
        "We could also use a dummy model to check what the accuracy would be in the worst case scenario, by predicting that everyone didn't survive."
      ],
      "metadata": {
        "id": "0CN8zv70iQv4"
      }
    },
    {
      "cell_type": "code",
      "source": [
        "# initializing, fitting and predicting with the model\n",
        "rfc = RandomForestClassifier(random_state=42)\n",
        "rfc.fit(X_train, y_train)\n",
        "y_preds = rfc.predict(X_test)"
      ],
      "metadata": {
        "id": "E4ugMHcqetMc"
      },
      "execution_count": 33,
      "outputs": []
    },
    {
      "cell_type": "markdown",
      "source": [
        "To evaluate our model we need to have the `survived` column in the test set. Since the provided data doesn't have it, we'll be using the Kaggle competition page to evaluate it."
      ],
      "metadata": {
        "id": "7u6OpsiuiugB"
      }
    },
    {
      "cell_type": "code",
      "source": [
        "# preparing the submission in the Kaggle format\n",
        "submission = pd.DataFrame()\n",
        "submission['PassengerId'] = df_test_raw['Kaggle_Pass_Id']\n",
        "submission['Survived'] = y_preds\n",
        "\n",
        "# uncomment the following line to download the .csv\n",
        "# submission.to_csv('submission.csv', index=False)"
      ],
      "metadata": {
        "id": "Z-fWGucuhXwr"
      },
      "execution_count": 34,
      "outputs": []
    },
    {
      "cell_type": "markdown",
      "source": [
        "After submitting, our model got an accuracy of 0.77511.\n",
        "\n",
        "![](https://raw.githubusercontent.com/diascarolina/i2a2/main/img/KaggleScore.png)"
      ],
      "metadata": {
        "id": "XV97luxRjeb0"
      }
    },
    {
      "cell_type": "markdown",
      "source": [
        "# 6 Deployment\n",
        "\n",
        "Our next step in the CRISP-DS method would be to deploy our model, but this is beyond the scope of this lesson.\n",
        "\n",
        "One way we could deploy our model is by making a simple API that receives a request with the passanger information and returns if that person would have survived the sinking of Titanic. We could do this using Flask or FastAPI and deploy it using Docker or any cloud provider."
      ],
      "metadata": {
        "id": "X_a3-0qFka3W"
      }
    },
    {
      "cell_type": "markdown",
      "metadata": {
        "id": "RtVGHgZUo2aN"
      },
      "source": [
        "# 7 References\n",
        "\n",
        "- [[1] CRISP-DS: Cyclic Methodology for Data Science Projects](https://blog.magrathealabs.com/crisp-ds-cyclic-methodology-for-data-science-projects-10c7d00fbc85)\n",
        "- [Kaggle Problem: Titanic](https://www.kaggle.com/c/titanic/overview)"
      ]
    }
  ],
  "metadata": {
    "colab": {
      "collapsed_sections": [],
      "name": "problem02.ipynb",
      "provenance": [],
      "toc_visible": true,
      "authorship_tag": "ABX9TyMl1NJ4uEDwmsoxGqSeWOcV",
      "include_colab_link": true
    },
    "kernelspec": {
      "display_name": "Python 3",
      "name": "python3"
    },
    "language_info": {
      "name": "python"
    }
  },
  "nbformat": 4,
  "nbformat_minor": 0
}